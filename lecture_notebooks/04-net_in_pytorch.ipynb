{
 "cells": [
  {
   "cell_type": "code",
   "execution_count": 1,
   "metadata": {},
   "outputs": [
    {
     "name": "stdout",
     "output_type": "stream",
     "text": [
      "Populating the interactive namespace from numpy and matplotlib\n"
     ]
    }
   ],
   "source": [
    "%pylab inline\n",
    "\n",
    "from __future__ import print_function\n",
    "from __future__ import division\n",
    "from __future__ import absolute_import"
   ]
  },
  {
   "cell_type": "code",
   "execution_count": 2,
   "metadata": {
    "collapsed": true
   },
   "outputs": [],
   "source": [
    "import torch\n",
    "from torch.autograd import Variable"
   ]
  },
  {
   "cell_type": "markdown",
   "metadata": {},
   "source": [
    "# Torch introduction\n",
    "\n",
    "(Py)Torch is a neural network package developed by Facebook, that is extremely simple. We'll use it to implement neural networks\n",
    "\n",
    "# Torch tensor\n",
    "\n",
    "Torch tensors are just like numpy arrays, but with a twist - they can also live on the GPU. Many methods are called similarly to numpy's, but unfortunately there are many API differences. See the documentation for supported functions: http://pytorch.org/docs/master/tensors.html."
   ]
  },
  {
   "cell_type": "code",
   "execution_count": 3,
   "metadata": {
    "collapsed": true
   },
   "outputs": [],
   "source": [
    "# use torch.form_numpy to convert a numpy array. For CPU tensors, it is fast (no memory copy)\n",
    "\n",
    "# Define 4 samples\n",
    "X = torch.from_numpy(np.array([[0,0],\n",
    "                               [0,1],\n",
    "                               [1,0],\n",
    "                               [1,1]], dtype=np.float32))\n",
    "Y = torch.from_numpy(np.array([[0], [1],[1], [0]], dtype=np.float32))"
   ]
  },
  {
   "cell_type": "code",
   "execution_count": 4,
   "metadata": {},
   "outputs": [
    {
     "name": "stdout",
     "output_type": "stream",
     "text": [
      "\n",
      " 0  0\n",
      " 0  1\n",
      " 1  0\n",
      " 1  1\n",
      "[torch.FloatTensor of size 4x2]\n",
      " \n",
      " 0\n",
      " 1\n",
      " 1\n",
      " 0\n",
      "[torch.FloatTensor of size 4x1]\n",
      "\n"
     ]
    }
   ],
   "source": [
    "print(X, Y)"
   ]
  },
  {
   "cell_type": "code",
   "execution_count": 5,
   "metadata": {},
   "outputs": [
    {
     "data": {
      "text/plain": [
       "Text(0.5,1,u'The XOR function')"
      ]
     },
     "execution_count": 5,
     "metadata": {},
     "output_type": "execute_result"
    },
    {
     "data": {
      "image/png": "[encoded data removed]",
      "text/plain": [
       "<matplotlib.figure.Figure at 0x7f34f785a690>"
      ]
     },
     "metadata": {},
     "output_type": "display_data"
    }
   ],
   "source": [
    "# Use tensor.numpy to turn a tensor into a numpy array - on CPU, this is fast (no memory copy)\n",
    "scatter(X.numpy()[:,0], X.numpy()[:,1], c=Y.numpy().ravel())\n",
    "axis('square')\n",
    "title('The XOR function')"
   ]
  },
  {
   "cell_type": "code",
   "execution_count": 16,
   "metadata": {},
   "outputs": [
    {
     "name": "stdout",
     "output_type": "stream",
     "text": [
      "hW:  \n",
      " 1  1\n",
      " 1  1\n",
      "[torch.FloatTensor of size 2x2]\n",
      " hb:  \n",
      "-0.5000 -1.5000\n",
      "[torch.FloatTensor of size 1x2]\n",
      "\n",
      "H:  \n",
      " 0.0000  0.0000\n",
      " 1.0000  0.0000\n",
      " 1.0000  0.0000\n",
      " 1.0000  1.0000\n",
      "[torch.FloatTensor of size 4x2]\n",
      "\n"
     ]
    }
   ],
   "source": [
    "# Define two neurons: an AND neuron, and an OR neuron\n",
    "hW = torch.from_numpy(np.array([[1.0, 1.0],\n",
    "                                [1.0, 1.0]], dtype=np.float32))\n",
    "hb = torch.from_numpy(np.array([[-.5, -1.5]], dtype=np.float32))\n",
    "\n",
    "print('hW: ', hW, 'hb: ', hb)\n",
    "\n",
    "# compute the hidden activation, we multiply by 10. to have the sigmoid look like the step function\n",
    "H = torch.sigmoid(100 * (X.matmul(hW) + hb))\n",
    "\n",
    "print('H: ', H)"
   ]
  },
  {
   "cell_type": "code",
   "execution_count": 23,
   "metadata": {},
   "outputs": [
    {
     "name": "stdout",
     "output_type": "stream",
     "text": [
      "O:  \n",
      " 1.9287e-22\n",
      " 1.0000e+00\n",
      " 1.0000e+00\n",
      " 1.9287e-22\n",
      "[torch.FloatTensor of size 4x1]\n",
      " Y:  \n",
      " 0\n",
      " 1\n",
      " 1\n",
      " 0\n",
      "[torch.FloatTensor of size 4x1]\n",
      "\n"
     ]
    }
   ],
   "source": [
    "# Define an output neuron (x1 OR x2) AND NOT (x1 AND x2)\n",
    "\n",
    "oW = torch.from_numpy(np.array([[ 1.0], \n",
    "                                [-1.0]], dtype=np.float32))\n",
    "ob = torch.from_numpy(np.array([[-0.5]], dtype=np.float32))\n",
    "\n",
    "# compute the output, we multiply by 10. to have the sigmoid look like the step function\n",
    "O = torch.sigmoid(100.0 * (H.matmul(oW) + ob))\n",
    "\n",
    "print('O: ', O, 'Y: ', Y)"
   ]
  },
  {
   "cell_type": "code",
   "execution_count": 25,
   "metadata": {},
   "outputs": [
    {
     "data": {
      "text/plain": [
       "\n",
       " 0.0072\n",
       " 0.9924\n",
       " 0.9924\n",
       " 0.0072\n",
       "[torch.FloatTensor of size 4x1]"
      ]
     },
     "execution_count": 25,
     "metadata": {},
     "output_type": "execute_result"
    }
   ],
   "source": [
    "# Let's define a function\n",
    "\n",
    "def net(X, hW, hb, oW, ob):\n",
    "    H = torch.sigmoid(10.0 * (X.matmul(hW) + hb))\n",
    "    O = torch.sigmoid(10.0 * (H.matmul(oW) + ob))\n",
    "    return O\n",
    "\n",
    "net(X, hW, hb, oW, ob)"
   ]
  },
  {
   "cell_type": "code",
   "execution_count": 26,
   "metadata": {},
   "outputs": [
    {
     "data": {
      "text/plain": [
       "\n",
       " 0  0\n",
       " 0  1\n",
       " 1  0\n",
       " 1  1\n",
       "[torch.cuda.FloatTensor of size 4x2 (GPU 0)]"
      ]
     },
     "execution_count": 26,
     "metadata": {},
     "output_type": "execute_result"
    }
   ],
   "source": [
    "X.cuda()"
   ]
  },
  {
   "cell_type": "code",
   "execution_count": 27,
   "metadata": {},
   "outputs": [
    {
     "data": {
      "text/plain": [
       "\n",
       " 0.0072\n",
       " 0.9924\n",
       " 0.9924\n",
       " 0.0072\n",
       "[torch.cuda.FloatTensor of size 4x1 (GPU 0)]"
      ]
     },
     "execution_count": 27,
     "metadata": {},
     "output_type": "execute_result"
    }
   ],
   "source": [
    "# CUDA computations\n",
    "# Use .cuda() to move variable to the GPU\n",
    "\n",
    "net(X.cuda(), hW.cuda(), hb.cuda(), oW.cuda(), ob.cuda())"
   ]
  },
  {
   "cell_type": "markdown",
   "metadata": {},
   "source": [
    "# The Variable class know about gradients"
   ]
  },
  {
   "cell_type": "code",
   "execution_count": 28,
   "metadata": {},
   "outputs": [
    {
     "name": "stdout",
     "output_type": "stream",
     "text": [
      "XV:  Variable containing:\n",
      " 0  0\n",
      " 0  1\n",
      " 1  0\n",
      " 1  1\n",
      "[torch.cuda.FloatTensor of size 4x2 (GPU 0)]\n",
      "\n",
      "XV.data:  \n",
      " 0  0\n",
      " 0  1\n",
      " 1  0\n",
      " 1  1\n",
      "[torch.cuda.FloatTensor of size 4x2 (GPU 0)]\n",
      "\n"
     ]
    }
   ],
   "source": [
    "XV = Variable(X.cuda(), requires_grad=False)\n",
    "\n",
    "# .data holds the values\n",
    "print(\"XV: \", XV)\n",
    "print(\"XV.data: \", XV.data)"
   ]
  },
  {
   "cell_type": "code",
   "execution_count": 29,
   "metadata": {},
   "outputs": [
    {
     "name": "stdout",
     "output_type": "stream",
     "text": [
      "out Variable containing:\n",
      " 0.0072\n",
      " 0.9924\n",
      " 0.9924\n",
      " 0.0072\n",
      "[torch.FloatTensor of size 4x1]\n",
      "\n"
     ]
    }
   ],
   "source": [
    "XV = Variable(X, requires_grad=False)\n",
    "YV = Variable(Y, requires_grad=False)\n",
    "\n",
    "hWV = Variable(hW, requires_grad=True)\n",
    "hbV = Variable(hb, requires_grad=True)\n",
    "oWV = Variable(oW, requires_grad=True)\n",
    "obV = Variable(ob, requires_grad=True)\n",
    "\n",
    "# notice that out will also be a variable\n",
    "out = net(XV, hWV, hbV, oWV, obV)\n",
    "print (\"out\", out)"
   ]
  },
  {
   "cell_type": "code",
   "execution_count": 30,
   "metadata": {},
   "outputs": [
    {
     "data": {
      "text/plain": [
       "Variable containing:\n",
       "1.00000e-04 *\n",
       "  2.1919\n",
       "[torch.FloatTensor of size 1]"
      ]
     },
     "execution_count": 30,
     "metadata": {},
     "output_type": "execute_result"
    }
   ],
   "source": [
    "loss = ((out - YV)**2).sum()\n",
    "loss"
   ]
  },
  {
   "cell_type": "code",
   "execution_count": 31,
   "metadata": {
    "collapsed": true
   },
   "outputs": [],
   "source": [
    "loss.backward()"
   ]
  },
  {
   "cell_type": "code",
   "execution_count": 32,
   "metadata": {},
   "outputs": [
    {
     "name": "stdout",
     "output_type": "stream",
     "text": [
      "data:  \n",
      " 1  1\n",
      " 1  1\n",
      "[torch.FloatTensor of size 2x2]\n",
      "\n",
      "grad:  Variable containing:\n",
      "1.00000e-05 *\n",
      " -7.7096  0.9561\n",
      " -7.7096  0.9561\n",
      "[torch.FloatTensor of size 2x2]\n",
      "\n"
     ]
    }
   ],
   "source": [
    "# .data holds the values\n",
    "print(\"data: \", hWV.data)\n",
    "\n",
    "# .grad holds the accumulated grdient, but \n",
    "print(\"grad: \", hWV.grad)"
   ]
  },
  {
   "cell_type": "code",
   "execution_count": 33,
   "metadata": {},
   "outputs": [
    {
     "name": "stdout",
     "output_type": "stream",
     "text": [
      "0 1.30230009556\n",
      "250 0.248610556126\n",
      "500 0.0135626578704\n",
      "750 0.006257802248\n",
      "1000 0.00399778736755\n",
      "1250 0.00291724829003\n",
      "1500 0.00228852662258\n",
      "1750 0.00187883758917\n",
      "2000 0.00159139977768\n",
      "2250 0.00137893657666\n",
      "2500 0.00121567759197\n",
      "2750 0.00108641514089\n"
     ]
    }
   ],
   "source": [
    "# Training loop\n",
    "# Depending on the initialization, this networks fails to train in about 10% cases.\n",
    "# We'll explain why during next lecture.\n",
    "params = [hWV, hbV, oWV, obV]\n",
    "\n",
    "for p in params:\n",
    "    p.data = torch.from_numpy(np.random.randn(*p.size()).astype('float32') * 0.1)\n",
    "\n",
    "for step in range(3000):\n",
    "    for p in params:\n",
    "        # functions ending in _ modify the tensor!\n",
    "        p.grad.data.zero_()\n",
    "    out = net(XV, *params)\n",
    "    loss = ((out - YV)**2).sum()\n",
    "    if (step % 250) == 0:\n",
    "        print(step, loss.data[0])\n",
    "    loss.backward()\n",
    "    for p in params:\n",
    "        p.data -= 1e-2 * p.grad.data"
   ]
  },
  {
   "cell_type": "code",
   "execution_count": 34,
   "metadata": {},
   "outputs": [
    {
     "name": "stdout",
     "output_type": "stream",
     "text": [
      "[('hWV,',\n",
      "  Variable containing:\n",
      " 0.4769 -0.6519\n",
      " 0.4772 -0.6535\n",
      "[torch.FloatTensor of size 2x2]\n",
      "),\n",
      " ('hbV,',\n",
      "  Variable containing:\n",
      "-0.7415  0.2595\n",
      "[torch.FloatTensor of size 1x2]\n",
      "),\n",
      " ('oWV,',\n",
      "  Variable containing:\n",
      "-1.0196\n",
      "-0.9877\n",
      "[torch.FloatTensor of size 2x1]\n",
      "),\n",
      " ('obV', Variable containing:\n",
      " 0.4962\n",
      "[torch.FloatTensor of size 1x1]\n",
      ")]\n"
     ]
    }
   ],
   "source": [
    "import pprint\n",
    "\n",
    "pprint.pprint(zip ('hWV, hbV, oWV, obV'.split(), params))"
   ]
  },
  {
   "cell_type": "code",
   "execution_count": 35,
   "metadata": {
    "collapsed": true
   },
   "outputs": [],
   "source": [
    "if 1:\n",
    "    for p in params:\n",
    "        # functions ending in _ modify the tensor!\n",
    "        p.grad.data.zero_()\n",
    "    out = net(XV, *params)\n",
    "    loss = ((out - YV)**2).sum()"
   ]
  },
  {
   "cell_type": "code",
   "execution_count": 36,
   "metadata": {},
   "outputs": [
    {
     "name": "stdout",
     "output_type": "stream",
     "text": [
      "0 1.00571060181\n",
      "250 1.00000333786\n",
      "500 0.999988973141\n",
      "750 0.999966561794\n",
      "1000 0.999856650829\n",
      "1250 0.997202694416\n",
      "1500 0.301792025566\n",
      "1750 0.0391596369445\n",
      "2000 0.0190621707588\n",
      "2250 0.0123739829287\n",
      "2500 0.00909661035985\n",
      "2750 0.00716654770076\n"
     ]
    }
   ],
   "source": [
    "# Alt network - this one is easier to train and converges most of the time!\n",
    "params = [hWV, hbV, oWV, obV]\n",
    "\n",
    "def net2(X, hW, hb, oW, ob):\n",
    "    H = torch.tanh(((X * 2.0 - 1.0).matmul(hW) + hb))\n",
    "    O = torch.sigmoid((H.matmul(oW) + ob))\n",
    "    return O\n",
    "\n",
    "for p in params:\n",
    "    p.data = torch.from_numpy(np.random.randn(*p.size()).astype('float32') * 0.1)\n",
    "\n",
    "for step in range(3000):\n",
    "    for p in params:\n",
    "        # functions ending in _ modify the tensor!\n",
    "        p.grad.data.zero_()\n",
    "    out = net2(XV, *params)\n",
    "    loss = ((out - YV)**2).sum()\n",
    "    if (step % 250) == 0:\n",
    "        print(step, loss.data[0])\n",
    "    loss.backward()\n",
    "    for p in params:\n",
    "        p.data -= p.grad.data * 1e-1"
   ]
  },
  {
   "cell_type": "code",
   "execution_count": null,
   "metadata": {
    "collapsed": true
   },
   "outputs": [],
   "source": []
  }
 ],
 "metadata": {
  "kernelspec": {
   "display_name": "Python 2",
   "language": "python",
   "name": "python2"
  },
  "language_info": {
   "codemirror_mode": {
    "name": "ipython",
    "version": 2
   },
   "file_extension": ".py",
   "mimetype": "text/x-python",
   "name": "python",
   "nbconvert_exporter": "python",
   "pygments_lexer": "ipython2",
   "version": "2.7.11"
  }
 },
 "nbformat": 4,
 "nbformat_minor": 2
}
