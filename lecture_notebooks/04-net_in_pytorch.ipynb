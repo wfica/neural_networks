{
 "cells": [
  {
   "cell_type": "code",
   "execution_count": 77,
   "metadata": {},
   "outputs": [
    {
     "name": "stdout",
     "output_type": "stream",
     "text": [
      "Populating the interactive namespace from numpy and matplotlib\n"
     ]
    },
    {
     "name": "stderr",
     "output_type": "stream",
     "text": [
      "/pio/os/anaconda/lib/python2.7/site-packages/IPython/core/magics/pylab.py:161: UserWarning: pylab import has clobbered these variables: ['step']\n",
      "`%matplotlib` prevents importing * from pylab and numpy\n",
      "  \"\\n`%matplotlib` prevents importing * from pylab and numpy\"\n"
     ]
    }
   ],
   "source": [
    "%pylab inline\n",
    "\n",
    "from __future__ import print_function\n",
    "from __future__ import division\n",
    "from __future__ import absolute_import"
   ]
  },
  {
   "cell_type": "code",
   "execution_count": 78,
   "metadata": {
    "collapsed": true
   },
   "outputs": [],
   "source": [
    "import torch\n",
    "from torch.autograd import Variable"
   ]
  },
  {
   "cell_type": "markdown",
   "metadata": {},
   "source": [
    "# Torch introduction\n",
    "\n",
    "(Py)Torch is a neural network package developed by Facebook, that is extremely simple. We'll use it to implement neural networks\n",
    "\n",
    "# Torch tensor\n",
    "\n",
    "Torch tensors are just like numpy arrays, but with a twist - they can also live on the GPU. Many methods are called similarly to numpy's, but unfortunately there are many API differences. See the documentation for supported functions: http://pytorch.org/docs/master/tensors.html."
   ]
  },
  {
   "cell_type": "code",
   "execution_count": 79,
   "metadata": {
    "collapsed": true
   },
   "outputs": [],
   "source": [
    "# use torch.form_numpy to convert a numpy array. For CPU tensors, it is fast (no memory copy)\n",
    "\n",
    "# Define 4 samples\n",
    "X = torch.from_numpy(np.array([[0,0],\n",
    "                               [0,1],\n",
    "                               [1,0],\n",
    "                               [1,1]], dtype=np.float32))\n",
    "Y = torch.from_numpy(np.array([[0], [1],[1], [0]], dtype=np.float32))"
   ]
  },
  {
   "cell_type": "code",
   "execution_count": 80,
   "metadata": {},
   "outputs": [
    {
     "name": "stdout",
     "output_type": "stream",
     "text": [
      "\n",
      " 0  0\n",
      " 0  1\n",
      " 1  0\n",
      " 1  1\n",
      "[torch.FloatTensor of size 4x2]\n",
      " \n",
      " 0\n",
      " 1\n",
      " 1\n",
      " 0\n",
      "[torch.FloatTensor of size 4x1]\n",
      "\n"
     ]
    }
   ],
   "source": [
    "print(X, Y)"
   ]
  },
  {
   "cell_type": "code",
   "execution_count": 81,
   "metadata": {},
   "outputs": [
    {
     "data": {
      "text/plain": [
       "<matplotlib.text.Text at 0x7ff9a09f3e50>"
      ]
     },
     "execution_count": 81,
     "metadata": {},
     "output_type": "execute_result"
    },
    {
     "data": {
      "image/png": "[encoded data removed]",
      "text/plain": [
       "<matplotlib.figure.Figure at 0x7ff9a305e410>"
      ]
     },
     "metadata": {},
     "output_type": "display_data"
    }
   ],
   "source": [
    "# Use tensor.numpy to turn a tensor into a numpy array - on CPU, this is fast (no memory copy)\n",
    "scatter(X.numpy()[:,0], X.numpy()[:,1], c=Y.numpy())\n",
    "axis('square')\n",
    "title('The XOR function')"
   ]
  },
  {
   "cell_type": "code",
   "execution_count": 82,
   "metadata": {},
   "outputs": [
    {
     "name": "stdout",
     "output_type": "stream",
     "text": [
      "hW:  \n",
      " 1  1\n",
      " 1  1\n",
      "[torch.FloatTensor of size 2x2]\n",
      " hb:  \n",
      "-0.5000 -1.5000\n",
      "[torch.FloatTensor of size 1x2]\n",
      "\n",
      "H:  \n",
      " 0.0000  0.0000\n",
      " 1.0000  0.0000\n",
      " 1.0000  0.0000\n",
      " 1.0000  1.0000\n",
      "[torch.FloatTensor of size 4x2]\n",
      "\n"
     ]
    }
   ],
   "source": [
    "# Define two neurons: an AND neuron, and an OR neuron\n",
    "hW = torch.from_numpy(np.array([[1.0, 1.0],\n",
    "                                [1.0, 1.0]], dtype=np.float32))\n",
    "hb = torch.from_numpy(np.array([[-.5, -1.5]], dtype=np.float32))\n",
    "\n",
    "print('hW: ', hW, 'hb: ', hb)\n",
    "\n",
    "# compute the hidden activation, we multiply by 10. to have the sigmoid look like the step function\n",
    "H = torch.sigmoid(100 * (X.matmul(hW) + hb))\n",
    "\n",
    "print('H: ', H)"
   ]
  },
  {
   "cell_type": "code",
   "execution_count": 84,
   "metadata": {},
   "outputs": [
    {
     "name": "stdout",
     "output_type": "stream",
     "text": [
      "O:  \n",
      " 1.9287e-22\n",
      " 1.0000e+00\n",
      " 1.0000e+00\n",
      " 1.9287e-22\n",
      "[torch.FloatTensor of size 4x1]\n",
      " Y:  \n",
      " 0\n",
      " 1\n",
      " 1\n",
      " 0\n",
      "[torch.FloatTensor of size 4x1]\n",
      "\n"
     ]
    }
   ],
   "source": [
    "# Define an output neuron (x1 OR x2) AND NOT (x1 AND x2)\n",
    "\n",
    "oW = torch.from_numpy(np.array([[ 1.0], \n",
    "                                [-1.0]], dtype=np.float32))\n",
    "ob = torch.from_numpy(np.array([[-0.5]], dtype=np.float32))\n",
    "\n",
    "# compute the output, we multiply by 10. to have the sigmoid look like the step function\n",
    "O = torch.sigmoid(100.0 * (H.matmul(oW) + ob))\n",
    "\n",
    "print('O: ', O, 'Y: ', Y)"
   ]
  },
  {
   "cell_type": "code",
   "execution_count": 85,
   "metadata": {},
   "outputs": [
    {
     "data": {
      "text/plain": [
       "\n",
       " 0.0072\n",
       " 0.9924\n",
       " 0.9924\n",
       " 0.0072\n",
       "[torch.FloatTensor of size 4x1]"
      ]
     },
     "execution_count": 85,
     "metadata": {},
     "output_type": "execute_result"
    }
   ],
   "source": [
    "# Let's define a function\n",
    "\n",
    "def net(X, hW, hb, oW, ob):\n",
    "    H = torch.sigmoid(10.0 * (X.matmul(hW) + hb))\n",
    "    O = torch.sigmoid(10.0 * (H.matmul(oW) + ob))\n",
    "    return O\n",
    "\n",
    "net(X, hW, hb, oW, ob)"
   ]
  },
  {
   "cell_type": "code",
   "execution_count": 87,
   "metadata": {},
   "outputs": [
    {
     "data": {
      "text/plain": [
       "\n",
       " 0  0\n",
       " 0  1\n",
       " 1  0\n",
       " 1  1\n",
       "[torch.cuda.FloatTensor of size 4x2 (GPU 0)]"
      ]
     },
     "execution_count": 87,
     "metadata": {},
     "output_type": "execute_result"
    }
   ],
   "source": [
    "X.cuda()"
   ]
  },
  {
   "cell_type": "code",
   "execution_count": 91,
   "metadata": {},
   "outputs": [
    {
     "data": {
      "text/plain": [
       "\n",
       " 0.0072\n",
       " 0.9924\n",
       " 0.9924\n",
       " 0.0072\n",
       "[torch.cuda.FloatTensor of size 4x1 (GPU 0)]"
      ]
     },
     "execution_count": 91,
     "metadata": {},
     "output_type": "execute_result"
    }
   ],
   "source": [
    "# CUDA computations\n",
    "# Use .cuda() to move variable to the GPU\n",
    "\n",
    "net(X.cuda(), hW.cuda(), hb.cuda(), oW.cuda(), ob.cuda())"
   ]
  },
  {
   "cell_type": "markdown",
   "metadata": {},
   "source": [
    "# The Variable class know about gradients"
   ]
  },
  {
   "cell_type": "code",
   "execution_count": 93,
   "metadata": {},
   "outputs": [
    {
     "name": "stdout",
     "output_type": "stream",
     "text": [
      "XV:  Variable containing:\n",
      " 0  0\n",
      " 0  1\n",
      " 1  0\n",
      " 1  1\n",
      "[torch.cuda.FloatTensor of size 4x2 (GPU 0)]\n",
      "\n",
      "XV.data:  \n",
      " 0  0\n",
      " 0  1\n",
      " 1  0\n",
      " 1  1\n",
      "[torch.cuda.FloatTensor of size 4x2 (GPU 0)]\n",
      "\n"
     ]
    }
   ],
   "source": [
    "XV = Variable(X.cuda(), requires_grad=False)\n",
    "\n",
    "# .data holds the values\n",
    "print(\"XV: \", XV)\n",
    "print(\"XV.data: \", XV.data)"
   ]
  },
  {
   "cell_type": "code",
   "execution_count": 103,
   "metadata": {},
   "outputs": [
    {
     "name": "stdout",
     "output_type": "stream",
     "text": [
      "out Variable containing:\n",
      " 0.0072\n",
      " 0.9924\n",
      " 0.9924\n",
      " 0.0072\n",
      "[torch.FloatTensor of size 4x1]\n",
      "\n"
     ]
    }
   ],
   "source": [
    "XV = Variable(X, requires_grad=False)\n",
    "YV = Variable(Y, requires_grad=False)\n",
    "\n",
    "hWV = Variable(hW, requires_grad=True)\n",
    "hbV = Variable(hb, requires_grad=True)\n",
    "oWV = Variable(oW, requires_grad=True)\n",
    "obV = Variable(ob, requires_grad=True)\n",
    "\n",
    "# notice that out will also be a variable\n",
    "out = net(XV, hWV, hbV, oWV, obV)\n",
    "print (\"out\", out)"
   ]
  },
  {
   "cell_type": "code",
   "execution_count": 104,
   "metadata": {},
   "outputs": [
    {
     "data": {
      "text/plain": [
       "Variable containing:\n",
       "1.00000e-04 *\n",
       "  2.1919\n",
       "[torch.FloatTensor of size 1]"
      ]
     },
     "execution_count": 104,
     "metadata": {},
     "output_type": "execute_result"
    }
   ],
   "source": [
    "loss = ((out - YV)**2).sum()\n",
    "loss"
   ]
  },
  {
   "cell_type": "code",
   "execution_count": 105,
   "metadata": {},
   "outputs": [],
   "source": [
    "loss.backward()"
   ]
  },
  {
   "cell_type": "code",
   "execution_count": 106,
   "metadata": {},
   "outputs": [
    {
     "name": "stdout",
     "output_type": "stream",
     "text": [
      "data:  \n",
      " 1  1\n",
      " 1  1\n",
      "[torch.FloatTensor of size 2x2]\n",
      "\n",
      "grad:  Variable containing:\n",
      "1.00000e-05 *\n",
      " -7.7096  0.9561\n",
      " -7.7096  0.9561\n",
      "[torch.FloatTensor of size 2x2]\n",
      "\n"
     ]
    }
   ],
   "source": [
    "# .data holds the values\n",
    "print(\"data: \", hWV.data)\n",
    "\n",
    "# .grad holds the accumulated grdient, but \n",
    "print(\"grad: \", hWV.grad)"
   ]
  },
  {
   "cell_type": "code",
   "execution_count": 110,
   "metadata": {},
   "outputs": [
    {
     "name": "stdout",
     "output_type": "stream",
     "text": [
      "0 1.00223529339\n",
      "250 0.0633510798216\n",
      "500 0.0106800086796\n",
      "750 0.00550934765488\n",
      "1000 0.0036630590912\n",
      "1250 0.00272816722281\n",
      "1500 0.00216689356603\n",
      "1750 0.00179384509102\n",
      "2000 0.00152852199972\n",
      "2250 0.00133042037487\n",
      "2500 0.00117703096475\n",
      "2750 0.0010548470309\n"
     ]
    }
   ],
   "source": [
    "# Training loop\n",
    "# Depending on the initialization, this networks fails to train in about 10% cases.\n",
    "# We'll explain why during next lecture.\n",
    "params = [hWV, hbV, oWV, obV]\n",
    "\n",
    "for p in params:\n",
    "    p.data = torch.from_numpy(np.random.randn(*p.size()).astype('float32') * 0.1)\n",
    "\n",
    "for step in range(3000):\n",
    "    for p in params:\n",
    "        # functions ending in _ modify the tensor!\n",
    "        p.grad.data.zero_()\n",
    "    out = net(XV, *params)\n",
    "    loss = ((out - YV)**2).sum()\n",
    "    if (step % 250) == 0:\n",
    "        print(step, loss.data[0])\n",
    "    loss.backward()\n",
    "    for p in params:\n",
    "        p.data -= 1e-2 * p.grad.data"
   ]
  },
  {
   "cell_type": "code",
   "execution_count": 117,
   "metadata": {},
   "outputs": [
    {
     "name": "stdout",
     "output_type": "stream",
     "text": [
      "[('hWV,',\n",
      "  Variable containing:\n",
      " 0.4618  0.6597\n",
      " 0.4630  0.6651\n",
      "[torch.FloatTensor of size 2x2]\n",
      "),\n",
      " ('hbV,',\n",
      "  Variable containing:\n",
      "-0.7097 -0.2960\n",
      "[torch.FloatTensor of size 1x2]\n",
      "),\n",
      " ('oWV,',\n",
      "  Variable containing:\n",
      "-1.0539\n",
      " 0.9796\n",
      "[torch.FloatTensor of size 2x1]\n",
      "),\n",
      " ('obV', Variable containing:\n",
      "-0.4525\n",
      "[torch.FloatTensor of size 1x1]\n",
      ")]\n"
     ]
    }
   ],
   "source": [
    "import pprint\n",
    "\n",
    "pprint.pprint(zip ('hWV, hbV, oWV, obV'.split(), params))"
   ]
  },
  {
   "cell_type": "code",
   "execution_count": 119,
   "metadata": {},
   "outputs": [],
   "source": [
    "if 1:\n",
    "    for p in params:\n",
    "        # functions ending in _ modify the tensor!\n",
    "        p.grad.data.zero_()\n",
    "    out = net(XV, *params)\n",
    "    loss = ((out - YV)**2).sum()"
   ]
  },
  {
   "cell_type": "code",
   "execution_count": 68,
   "metadata": {},
   "outputs": [
    {
     "name": "stdout",
     "output_type": "stream",
     "text": [
      "0 1.00059986115\n",
      "250 0.999978721142\n",
      "500 0.999841153622\n",
      "750 0.997927606106\n",
      "1000 0.206064373255\n",
      "1250 0.0362930893898\n",
      "1500 0.0183573663235\n",
      "1750 0.0120765883476\n",
      "2000 0.0089367441833\n",
      "2250 0.00706796068698\n",
      "2500 0.00583356944844\n",
      "2750 0.00495963683352\n"
     ]
    }
   ],
   "source": [
    "# Alt network - this one is easier to train and converges most of the time!\n",
    "params = [hWV, hbV, oWV, obV]\n",
    "\n",
    "def net2(X, hW, hb, oW, ob):\n",
    "    H = torch.tanh(((X * 2.0 - 1.0).matmul(hW) + hb))\n",
    "    O = torch.sigmoid((H.matmul(oW) + ob))\n",
    "    return O\n",
    "\n",
    "for p in params:\n",
    "    p.data = torch.from_numpy(np.random.randn(*p.size()).astype('float32') * 0.1)\n",
    "\n",
    "for step in range(3000):\n",
    "    for p in params:\n",
    "        # functions ending in _ modify the tensor!\n",
    "        p.grad.data.zero_()\n",
    "    out = net2(XV, *params)\n",
    "    loss = ((out - YV)**2).sum()\n",
    "    if (step % 250) == 0:\n",
    "        print(step, loss.data[0])\n",
    "    loss.backward()\n",
    "    for p in params:\n",
    "        p.data -= p.grad.data * 1e-1"
   ]
  },
  {
   "cell_type": "code",
   "execution_count": null,
   "metadata": {
    "collapsed": true
   },
   "outputs": [],
   "source": []
  }
 ],
 "metadata": {
  "kernelspec": {
   "display_name": "Python 2",
   "language": "python",
   "name": "python2"
  },
  "language_info": {
   "codemirror_mode": {
    "name": "ipython",
    "version": 2
   },
   "file_extension": ".py",
   "mimetype": "text/x-python",
   "name": "python",
   "nbconvert_exporter": "python",
   "pygments_lexer": "ipython2",
   "version": "2.7.13"
  }
 },
 "nbformat": 4,
 "nbformat_minor": 2
}
