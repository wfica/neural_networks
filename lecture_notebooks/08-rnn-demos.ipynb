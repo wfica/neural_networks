{
 "cells": [
  {
   "cell_type": "markdown",
   "metadata": {},
   "source": [
    "# Recurrent neural networks\n",
    "\n",
    "## Motivation\n",
    "\n",
    "Up to now we used neural networks to learn functions that predicted a desired output $y$ based on an input vector $x$. We have assumed that $x$ has a constant size, such as an image of a given resolution.\n",
    "\n",
    "In contrast, recurrent networks can be applied to sequences of different length.\n",
    "\n",
    "Consider the problem of computing the parity checksum of a sequence of bits. Traditional neural networks that we know can not be applied to bit sequences of arbitrary length, yet a program which reads in the sequence bit-by-bit is very easy to write. \n",
    "\n",
    "Another motivating example is sequence generation, such as generating text or music. Again, normal neural networks that take a fixed input size are not directly applicable to whole sequences.\n",
    "\n",
    "## Autoregressive models\n",
    "\n",
    "An autoregressive model assumes, that the $i$-th element of a sequence depends only on a few preceding sequence elements. Lets first write the exact probability of observing a sequence $\\mathbf{Y} = [Y_1, Y_2, \\ldots, Y_m]$:\n",
    "\n",
    "$$\n",
    "    P(\\mathbf{Y}) = P(Y_1)P(Y_2|Y_1)P(Y_3|Y_1, Y_2)\\ldots P(Y_m|Y1,Y_2,\\ldots,Y_{n-1})=\\prod_i P(Y_i|Y_1,\\ldots, Y_{i-1})\n",
    "$$\n",
    "\n",
    "The autoregressive model simply assumes that we can use only a finite history, that is:\n",
    "$$\n",
    "    P(Y_i|Y_1,\\ldots, Y_{i-1}) \\approx P(Y_i|Y_{i-n},\\ldots, Y_{i-1})\n",
    "$$\n",
    "\n",
    "Autoregressive models are quite frequently used, because they are easy to implement - it is sufficient extract $n$ element long subsequences and learn a model that predicts the last element given the $n-1$ preceding ones. Thus autoregressive models reduce the sequence learning problem to the typicall supervised learning setup\n",
    "\n",
    "### Examples\n",
    "\n",
    "Autoregressive models are very popular, for instance:\n",
    "\n",
    "1. Language models (that is models which tell how probable is a given utterance) are often expressed as $n$-gram models in which $P(Y_i|Y_{i-n},\\ldots, Y_{i-1})$ is simply established by counting occurrences in a corpus of text.\n",
    "2. The ARMA model used in timeseries prediction is expressed as:\n",
    "    $$\n",
    "        Y_t = \\sum_{i=1}^{n}\\alpha_i Y_{t-i} + \\sum_{i=1}^k \\Theta_i \\epsilon_{t-i},\n",
    "    $$\n",
    "    where $\\epsilon_i$ are assumed to be normally distributed noise variables.\n",
    "    \n",
    "## Models with a hidden state\n",
    "\n",
    "Autoregressive models have a very short memory which limits their applicability. We can build a more powerfull model by introducing a sequence of hidden states $\\mathbf{H} = [H_0, H_1, \\ldots]$. We will assume that all history of a sequence can be captured by the state:\n",
    "\n",
    "$$\n",
    "    P(Y_i|Y_1,\\ldots, Y_{i-1}) \\approx P(Y_i|Y_{i-n}, H_{i-1})\n",
    "$$\n",
    "\n",
    "\n",
    "### Recurrent neural networks\n",
    "\n",
    "Recurrent neural networks are a generalization of the model with the hidden state. We will assume that there is an input sequence $\\mathbb{X}$. The network will process the elements of $\\mathbb{X}$  one at a time producing a sequence of hidden states and a sequence of outputs. We will train the model by specifying the desired outputs. We will be able to supervise the model at each step (which is common e.g. in sequence generators which are taught to predict the next sequence element) or only at the end (which can be used in the parity computing network).\n",
    "\n",
    "Define a recurrent computation:\n",
    "\n",
    "$$\n",
    "\\begin{align}\n",
    "    H_t &= f(X_t, H_{t-1}) \\\\\n",
    "    Y_t &= g(X_t, H_t)\n",
    "\\end{align}\n",
    "$$\n",
    "\n",
    "In a recurrent neural network the function $f$ and $g$ are implemented as multilayer neural networks.\n",
    "\n",
    "### Backpropagation through time\n",
    "\n",
    "The last question is how to train such a recurrent network? The typicall approach is to *unroll the network in time*, then compute the loss and backpropagate it over the time steps. Gradient backpropagation algorithm works, thus in principle training doesn't require new skill. Hovewer, the unrolled network is very deep (its depth equals to the number of time steps!) and quite pathological, because the same weight matrices are reused at all times. For this reasons recurrent networks suffer from two problems:\n",
    "\n",
    "1. Gradient vanishing, when the gradient drops to zero and no training is possible.\n",
    "2. Gradient explosion, when the gradient grows really quickly and a single step can destroy the network.\n",
    "\n",
    "The two problems are related. Consider the following recurrency:\n",
    "\n",
    "$$\n",
    "    H_t = W_{hh}H_{t-1} = (W_{hh})^t H_0\n",
    "$$\n",
    "\n",
    "Suppose $H_0$ is an eigenvector - then depending on the magnitude of the associated eigenvalue the hidden state will either exponentially grow or decay! Of course, the network will typically have sone nonlinearities that will prevent the explosion of the hiden state. However, the backpropagation computation is linear (because all nonlinearities are linerized at the operating point). Thus the gradient is very prone to explode or implode!\n",
    "\n",
    "### Solutions to gradient pathologies\n",
    "\n",
    "#### Echo-state networks\n",
    "The first solution to training recurrent networks is... not to train the recurrent connections! This approach is taken in the *echo state networks* which perform the following computation:\n",
    "\n",
    "$$\n",
    "    \\begin{align}\n",
    "        H_t &= \\tanh(W_{xh}X_t + W_{hh} H_{t-1} + b_h) \\\\\n",
    "        O_t &= W_{xo}X_t + W_{ho}H_T + b_o\n",
    "    \\end{align}\n",
    "$$\n",
    "\n",
    "The training procedure is as follows:\n",
    "\n",
    "1. Randomly sample $W_{hh}$ and $W_{xh}$.\n",
    "2. Rescale $W_{hh}$ to have the largest eigenvalue close to 1\n",
    "3. Fit the $W_{xo}$ and $W{ho}$ using the closed-form formula for least squares\n",
    "4. Since steps 1.-3. are super-fast, repeat them multiple times with different scaling of $W_{hh}$ and $W_{xh}$.\n",
    "\n",
    "Because $W_{hh}$ has the largest eigenvalue sligtly less than 1, the hidden states oscillate and decay slowly. This creates \"echoes\" of previous inputs that reverberate in the network.\n",
    "\n",
    "#### Gradient clipping\n",
    "\n",
    "Gradient explosion can be prevented by rescaling gradients that are larger than a specified threshold. You can either clip individual components of the gradient, or rescale the whole gradient.\n",
    "\n",
    "#### LSTM cells\n",
    "\n",
    "LSTM's are important! They contributed a lot to recent sucesses of recurrent neural networks!\n",
    "\n",
    "For introduction and intuitions please see http://colah.github.io/posts/2015-08-Understanding-LSTMs/\n",
    "\n",
    "For more in-depth analysis please look at: http://www.jmlr.org/proceedings/papers/v37/jozefowicz15.pdf and http://arxiv.org/pdf/1503.04069v1.pdf\n",
    "\n",
    "The core idea of LSTM is to introduce multiplicative *gates* that enable long pathways of nearly constant values/gradients of memory cells that we will denote $c$. The core equations of LSTM are:\n",
    "\n",
    "$$\n",
    "\\begin{align}\n",
    "    i_t &= \\sigma(W_{xi}X_t + W_{hi}H_{t-1} + W_{ci}c_{t-1} + b_i) \\\\\n",
    "    f_t &= \\sigma(W_{xf}X_t + W_{hf}H_{t-1} + W_{cf}c_{t-1} + b_f) \\\\\n",
    "    c_t &= f_t c_{t-1} + i_t\\tanh(W_{xc}X_t + W_{hc}H_{t-1} + b_i) \\\\\n",
    "    o_t &= \\sigma(W_{xo}X_t + W_{ho}H_{t-1} + W_{co}c_{t} + b_o) \\\\\n",
    "    H_t &= o_t \\tanh(c_t)\n",
    "\\end{align}\n",
    "$$\n",
    "\n",
    "#### Multilayer and bi-directional LSTM networks\n",
    "\n",
    "It is possible to stack several LSTM layers (see the code below). Likewise, it is common to invert the input sequence to run the LSTM backward in time. Then the forward and backward hidden states give a summary of the sequence around a certain element.\n",
    "\n",
    "### Tricks of the trade\n",
    "\n",
    "1. Use train rules that allow per-parameter learnign rates (e.g. RMSProp)\n",
    "2. Monitor gradient magnitude!\n",
    "3. Initialization is important:\n",
    "    - it often helps to orthogonalize recurent weights and rescale to have the largest eigenvalue close to 1. This is similar to hidden-to-hidden weights in echo state networks\n",
    "    - forget-gate biases in LSTMs are ofetn initialized to 1 instead of 0. This enhances information retention at the beginning of training\n",
    "4. Learning interdependencies across many time steps is difficult. If possible train on short (or othervise simple) sequences first (this is often called \"curriculum learning\")"
   ]
  },
  {
   "cell_type": "code",
   "execution_count": 1,
   "metadata": {},
   "outputs": [
    {
     "name": "stdout",
     "output_type": "stream",
     "text": [
      "Populating the interactive namespace from numpy and matplotlib\n"
     ]
    }
   ],
   "source": [
    "%pylab inline"
   ]
  },
  {
   "cell_type": "code",
   "execution_count": 2,
   "metadata": {
    "collapsed": true
   },
   "outputs": [],
   "source": [
    "debug = True # global var to control debugging\n",
    "CUDA = False"
   ]
  },
  {
   "cell_type": "code",
   "execution_count": 3,
   "metadata": {
    "collapsed": true
   },
   "outputs": [],
   "source": [
    "import os"
   ]
  },
  {
   "cell_type": "code",
   "execution_count": 4,
   "metadata": {
    "collapsed": true
   },
   "outputs": [],
   "source": [
    "import torch\n",
    "import torch.tensor as T\n",
    "\n",
    "from torch.autograd import Variable\n",
    "from torch.nn.parameter import Parameter\n",
    "\n",
    "from torch.nn import functional as F\n",
    "\n",
    "def V(np_var, **kwargs):\n",
    "    t = torch.from_numpy(np_var)\n",
    "    if CUDA:\n",
    "        t = t.cuda()\n",
    "    return Variable(t, **kwargs)"
   ]
  },
  {
   "cell_type": "markdown",
   "metadata": {},
   "source": [
    "## RNN implementation in PyTorch\n",
    "\n",
    "Please note that PyTorch has RNN implementations (http://pytorch.org/docs/master/nn.html#recurrent-layers). The goal of this notebook is to demonstrate the basics of RNNs. For future projects please use the built-in mudules. They have more features, and are faster (they use the CuDNN library supplied by Nvidia).\n",
    "\n",
    "**Attention**: through the code we will assume that the 0-th axis refers to time and that the 1-st axis refers to individual examples inside a minibatch. (This way in a C-major memory layout individual time steps occupy contiguous regions in memory)"
   ]
  },
  {
   "cell_type": "code",
   "execution_count": 5,
   "metadata": {
    "collapsed": true
   },
   "outputs": [],
   "source": [
    "class SimpleRNNCell(torch.nn.Module):\n",
    "    def __init__(self, in_dim, hidden_dim, activation=torch.nn.Tanh(), **kwargs):\n",
    "        super(SimpleRNNCell, self).__init__(**kwargs)\n",
    "        \n",
    "        self.activation = activation\n",
    "        # Input to hidden\n",
    "        self.Wxh = Parameter(torch.Tensor(in_dim, hidden_dim))\n",
    "        \n",
    "        # Hidden to hidden\n",
    "        self.Whh = Parameter(torch.Tensor(hidden_dim, hidden_dim))\n",
    "        \n",
    "        # Hidden bias\n",
    "        self.bh = Parameter(torch.Tensor(hidden_dim))\n",
    "        self.reset_parameters()\n",
    "\n",
    "    def reset_parameters(self):\n",
    "        stdv = 1. / math.sqrt(self.Whh.size(1))\n",
    "        self.Wxh.data.uniform_(-stdv, stdv)\n",
    "        self.Whh.data.uniform_(-stdv, stdv)\n",
    "        self.bh.data.zero_()\n",
    "    \n",
    "    def forward(self, input, h):\n",
    "        pre_act = (\n",
    "            self.bh +\n",
    "            torch.matmul(input, self.Wxh) + \n",
    "            torch.matmul(h, self.Whh)\n",
    "        )\n",
    "        return self.activation(pre_act)\n",
    "            \n",
    "\n",
    "class RNN(torch.nn.Module):\n",
    "    def __init__(self, cell, **kwargs):\n",
    "        super(RNN, self).__init__(**kwargs)\n",
    "        self.cell = cell\n",
    "\n",
    "    def forward(self, input, hidden):\n",
    "        cell = self.cell\n",
    "        output = []\n",
    "        for i in range(input.size(0)):\n",
    "            hidden = cell(input[i], hidden)\n",
    "            # hack to handle LSTM\n",
    "            output.append(hidden[0] if isinstance(hidden, tuple) else hidden)\n",
    "\n",
    "        output = torch.cat(output, 0).view(input.size(0), *output[0].size())\n",
    "\n",
    "        return hidden, output"
   ]
  },
  {
   "cell_type": "markdown",
   "metadata": {},
   "source": [
    "# The parity task\n",
    "\n",
    "Here we solve the bit parity problem. Note that we will need at least two hidden neurons, because the network has to solve a XOR problem at each step."
   ]
  },
  {
   "cell_type": "code",
   "execution_count": 39,
   "metadata": {},
   "outputs": [
    {
     "name": "stdout",
     "output_type": "stream",
     "text": [
      "X.T: [[ 1.  1.  0.  0.  1.  1.  1.  1.  1.  1.  0.  1.  1.  0.  1.  1.  1.  0.]] \n",
      "Y.T: [[ 1.  0.  0.  0.  1.  0.  1.  0.  1.  0.  0.  1.  0.  0.  1.  0.  1.  1.]]\n"
     ]
    }
   ],
   "source": [
    "def gen_parity_examples(time_steps, batch_size):\n",
    "    X = (numpy.random.rand(time_steps, batch_size, 1)>0.5).astype('float32')\n",
    "    Y = X.cumsum(0) % 2\n",
    "    return X,Y\n",
    "\n",
    "\n",
    "Xp,Yp = gen_parity_examples(18, 1)\n",
    "print('X.T:', Xp.reshape(Xp.shape[:-1]).T, '\\nY.T:', Yp.reshape(Yp.shape[:-1]).T)"
   ]
  },
  {
   "cell_type": "code",
   "execution_count": 40,
   "metadata": {},
   "outputs": [
    {
     "data": {
      "text/plain": [
       "(18, 1, 1)"
      ]
     },
     "execution_count": 40,
     "metadata": {},
     "output_type": "execute_result"
    }
   ],
   "source": [
    "Xp.shape"
   ]
  },
  {
   "cell_type": "code",
   "execution_count": 42,
   "metadata": {},
   "outputs": [
    {
     "name": "stdout",
     "output_type": "stream",
     "text": [
      "O Variable containing:\n",
      "-0.0942 -0.2125\n",
      " 0.0058 -0.3019\n",
      " 0.0601 -0.1213\n",
      "-0.0099 -0.0431\n",
      "-0.0794 -0.2301\n",
      " 0.0008 -0.3070\n",
      "-0.0303 -0.3277\n",
      "-0.0076 -0.3380\n",
      "-0.0188 -0.3397\n",
      "-0.0118 -0.3413\n",
      " 0.0787 -0.1388\n",
      "-0.1111 -0.2582\n",
      " 0.0254 -0.3202\n",
      " 0.0524 -0.1267\n",
      "-0.0983 -0.2561\n",
      " 0.0174 -0.3182\n",
      "-0.0377 -0.3303\n",
      " 0.0915 -0.1370\n",
      "[torch.FloatTensor of size 18x2]\n",
      "\n"
     ]
    }
   ],
   "source": [
    "# The input variable - a 3D tensor with axes:\n",
    "# time x batch_size x num_features\n",
    "\n",
    "hidden_dim = 2\n",
    "test_net = RNN(SimpleRNNCell(in_dim=1, hidden_dim=hidden_dim))\n",
    "\n",
    "h0 = np.zeros((1, hidden_dim), dtype='float32')  # 1 sequence in batch, 1 hidden dim\n",
    "hn, O = test_net(V(Xp), V(h0))\n",
    "\n",
    "print('O', O.squeeze())"
   ]
  },
  {
   "cell_type": "code",
   "execution_count": 43,
   "metadata": {
    "collapsed": true
   },
   "outputs": [],
   "source": [
    "class ParityNet(torch.nn.Module):\n",
    "    def __init__(self, hidden_dim, **kwargs):\n",
    "        super(ParityNet, self).__init__(**kwargs)\n",
    "        self.hidden_dim = hidden_dim\n",
    "        self.rnn = RNN(\n",
    "            cell=SimpleRNNCell(in_dim=1, hidden_dim=hidden_dim,\n",
    "                               activation=torch.nn.Sigmoid()))\n",
    "        self.linear = torch.nn.Linear(in_features=1 + hidden_dim,\n",
    "                                      out_features=1)\n",
    "        \n",
    "    def forward(self, inputs):\n",
    "        h0 = np.zeros((inputs.size(1), self.hidden_dim),\n",
    "                      dtype='float32')\n",
    "        _, H = self.rnn(inputs, V(h0))\n",
    "        # concatenate inputs and hidden states\n",
    "        inputs_and_H = torch.cat((inputs, H), dim=2)\n",
    "        return F.sigmoid(self.linear(inputs_and_H))"
   ]
  },
  {
   "cell_type": "code",
   "execution_count": 44,
   "metadata": {},
   "outputs": [
    {
     "name": "stdout",
     "output_type": "stream",
     "text": [
      "        X:  [ 1.  1.  0.  0.  1.  1.  1.  1.  1.  1.  0.  1.  1.  0.  1.  1.  1.  0.]\n",
      "predicted:  [ 1.  0.  0.  0.  1.  0.  1.  0.  1.  0.  0.  1.  0.  0.  1.  0.  1.  1.]\n",
      "        Y:  [ 1.  0.  0.  0.  1.  0.  1.  0.  1.  0.  0.  1.  0.  0.  1.  0.  1.  1.]\n"
     ]
    }
   ],
   "source": [
    "parity_net = ParityNet(hidden_dim=2)\n",
    "\n",
    "#\n",
    "# Design the net to solve parity\n",
    "#\n",
    "parity_net.rnn.cell.Wxh.data[...\n",
    "    ] = torch.FloatTensor([[2000, 1000]])\n",
    "parity_net.rnn.cell.Whh.data[...\n",
    "    ] = torch.FloatTensor([[ 1000,  1000],\n",
    "                           [-1000, -1000]])\n",
    "parity_net.rnn.cell.bh.data[...\n",
    "    ] = torch.FloatTensor([-500, -1500])\n",
    "\n",
    "parity_net.linear.weight.data[...\n",
    "    ] = torch.FloatTensor([[ 0],\n",
    "                           [ 1000],\n",
    "                           [-1000]])\n",
    "parity_net.linear.bias.data[...\n",
    "    ] = torch.FloatTensor([-500])\n",
    "    \n",
    "predictions = parity_net(V(Xp)).data.numpy().squeeze()\n",
    "print('        X: ', Xp.squeeze())\n",
    "print('predicted: ', predictions)\n",
    "print('        Y: ', Yp.squeeze())"
   ]
  },
  {
   "cell_type": "code",
   "execution_count": 45,
   "metadata": {
    "collapsed": true
   },
   "outputs": [],
   "source": [
    "class Trainer(object):\n",
    "    def __init__(self, network):\n",
    "        # If full_supervision == True, supervice net outputs at all steps\n",
    "        # if full_supervision == False, supervise net outputs at the last\n",
    "        # step only\n",
    "        self.full_supervision = True\n",
    "        \n",
    "        # When the total gradient is above this value, scale it down\n",
    "        self.max_grad_norm = 1.0\n",
    "        \n",
    "        self.network = network\n",
    "        \n",
    "        # RMSprop stuff\n",
    "        self.lrate = 1e-2\n",
    "        self.RMSProp_dec_rate = 0.9\n",
    "        self.RMSProp_epsilon = 1e-5\n",
    "        self.gnorms = [torch.zeros(*p.size())\n",
    "                       for p in self.network.parameters()]\n",
    "    \n",
    "    def train_step(self, X, Y):\n",
    "        X = V(X)\n",
    "        Y = V(Y)\n",
    "        net = self.network\n",
    "        net.zero_grad()\n",
    "        # predictions\n",
    "        P = net(X)\n",
    "        if self.full_supervision:\n",
    "            loss = torch.mean((P - Y)**2)\n",
    "        else:\n",
    "            loss = torch.mean((P[-1] - Y[-1])**2)\n",
    "        loss.backward()\n",
    "        \n",
    "        tot_gnorm = torch.FloatTensor((0.0,))\n",
    "        # compute the norm of the gradient\n",
    "        for p in net.parameters():\n",
    "            tot_gnorm += torch.sum(p.grad.data**2)\n",
    "        tot_gnorm = torch.sqrt(tot_gnorm)\n",
    "        \n",
    "        g_div = torch.max(torch.FloatTensor((self.max_grad_norm,)), tot_gnorm)\n",
    "        \n",
    "        for i, p in enumerate(net.parameters()):\n",
    "            g = p.grad.data / g_div\n",
    "            #TODO: weight decay\n",
    "            self.gnorms[i] *= self.RMSProp_dec_rate\n",
    "            self.gnorms[i] += (1.0 - self.RMSProp_dec_rate) * g**2\n",
    "            p.data -= self.lrate * g / torch.sqrt(self.gnorms[i] + self.RMSProp_epsilon)\n",
    "        return loss.data[0], tot_gnorm[0]"
   ]
  },
  {
   "cell_type": "markdown",
   "metadata": {},
   "source": [
    "# Exploration of various problems with RNN training\n",
    "\n",
    "In the following cell you can implement with various ways of providing supervision to the network (which one is easier to train - when the net recieves feedback after each step or whn it recieves feedback only at the end of training?), changing the gradient clipping and playing with a curriculum.\n",
    "\n",
    "Notice the dynamics of training - at the beginning the network does very little. The, suddenly it notices the input-output relationship from which point training starts to progress very quickly."
   ]
  },
  {
   "cell_type": "code",
   "execution_count": 54,
   "metadata": {},
   "outputs": [
    {
     "name": "stdout",
     "output_type": "stream",
     "text": [
      "0 (0.25732627511024475, 0.08379088342189789)\n",
      "500 (0.25693824887275696, 0.04508886858820915)\n",
      "1000 (0.24951350688934326, 0.006582588888704777)\n",
      "1500 (0.24370935559272766, 0.12872189283370972)\n",
      "2000 (0.24369142949581146, 0.008430727757513523)\n",
      "2500 (0.22357340157032013, 0.03397641330957413)\n",
      "3000 (0.20257297158241272, 0.02979537472128868)\n",
      "3500 (0.19381365180015564, 0.02311432920396328)\n",
      "4000 (0.17163842916488647, 0.03057691641151905)\n",
      "4500 (0.0020587092731148005, 0.001996203325688839)\n",
      "5000 (0.0006739101954735816, 0.0007265237509272993)\n",
      "5500 (0.00034291495103389025, 0.0004969764850102365)\n",
      "6000 (0.00029793783323839307, 0.0002611169184092432)\n"
     ]
    },
    {
     "ename": "KeyboardInterrupt",
     "evalue": "",
     "output_type": "error",
     "traceback": [
      "\u001b[0;31m---------------------------------------------------------------------------\u001b[0m",
      "\u001b[0;31mKeyboardInterrupt\u001b[0m                         Traceback (most recent call last)",
      "\u001b[0;32m<ipython-input-54-43278ef13ad6>\u001b[0m in \u001b[0;36m<module>\u001b[0;34m()\u001b[0m\n\u001b[1;32m     21\u001b[0m \u001b[0;32mfor\u001b[0m \u001b[0mi\u001b[0m \u001b[0;32min\u001b[0m \u001b[0mrange\u001b[0m\u001b[0;34m(\u001b[0m\u001b[0;36m100000\u001b[0m\u001b[0;34m)\u001b[0m\u001b[0;34m:\u001b[0m\u001b[0;34m\u001b[0m\u001b[0m\n\u001b[1;32m     22\u001b[0m     \u001b[0mXp\u001b[0m\u001b[0;34m,\u001b[0m \u001b[0mYp\u001b[0m \u001b[0;34m=\u001b[0m \u001b[0mgen_parity_examples\u001b[0m\u001b[0;34m(\u001b[0m\u001b[0mseq_len\u001b[0m\u001b[0;34m,\u001b[0m \u001b[0;36m10\u001b[0m\u001b[0;34m)\u001b[0m\u001b[0;34m\u001b[0m\u001b[0m\n\u001b[0;32m---> 23\u001b[0;31m     \u001b[0mret\u001b[0m \u001b[0;34m=\u001b[0m \u001b[0mparity_trainer\u001b[0m\u001b[0;34m.\u001b[0m\u001b[0mtrain_step\u001b[0m\u001b[0;34m(\u001b[0m\u001b[0mXp\u001b[0m\u001b[0;34m,\u001b[0m \u001b[0mYp\u001b[0m\u001b[0;34m)\u001b[0m\u001b[0;34m\u001b[0m\u001b[0m\n\u001b[0m\u001b[1;32m     24\u001b[0m     \u001b[0mlosses\u001b[0m\u001b[0;34m.\u001b[0m\u001b[0mappend\u001b[0m\u001b[0;34m(\u001b[0m\u001b[0;34m(\u001b[0m\u001b[0mi\u001b[0m\u001b[0;34m,\u001b[0m\u001b[0;34m)\u001b[0m \u001b[0;34m+\u001b[0m \u001b[0mtuple\u001b[0m\u001b[0;34m(\u001b[0m\u001b[0mret\u001b[0m\u001b[0;34m)\u001b[0m\u001b[0;34m)\u001b[0m\u001b[0;34m\u001b[0m\u001b[0m\n\u001b[1;32m     25\u001b[0m     \u001b[0;32mif\u001b[0m \u001b[0mret\u001b[0m\u001b[0;34m[\u001b[0m\u001b[0;36m0\u001b[0m\u001b[0;34m]\u001b[0m\u001b[0;34m<\u001b[0m\u001b[0;36m1e-4\u001b[0m\u001b[0;34m:\u001b[0m\u001b[0;34m\u001b[0m\u001b[0m\n",
      "\u001b[0;32m<ipython-input-45-0c02d5fd5a95>\u001b[0m in \u001b[0;36mtrain_step\u001b[0;34m(self, X, Y)\u001b[0m\n\u001b[1;32m     39\u001b[0m         \u001b[0mg_div\u001b[0m \u001b[0;34m=\u001b[0m \u001b[0mtorch\u001b[0m\u001b[0;34m.\u001b[0m\u001b[0mmax\u001b[0m\u001b[0;34m(\u001b[0m\u001b[0mtorch\u001b[0m\u001b[0;34m.\u001b[0m\u001b[0mFloatTensor\u001b[0m\u001b[0;34m(\u001b[0m\u001b[0;34m(\u001b[0m\u001b[0;36m1.0\u001b[0m\u001b[0;34m,\u001b[0m\u001b[0;34m)\u001b[0m\u001b[0;34m)\u001b[0m\u001b[0;34m,\u001b[0m \u001b[0mtot_gnorm\u001b[0m\u001b[0;34m)\u001b[0m\u001b[0;34m\u001b[0m\u001b[0m\n\u001b[1;32m     40\u001b[0m \u001b[0;34m\u001b[0m\u001b[0m\n\u001b[0;32m---> 41\u001b[0;31m         \u001b[0;32mfor\u001b[0m \u001b[0mi\u001b[0m\u001b[0;34m,\u001b[0m \u001b[0mp\u001b[0m \u001b[0;32min\u001b[0m \u001b[0menumerate\u001b[0m\u001b[0;34m(\u001b[0m\u001b[0mnet\u001b[0m\u001b[0;34m.\u001b[0m\u001b[0mparameters\u001b[0m\u001b[0;34m(\u001b[0m\u001b[0;34m)\u001b[0m\u001b[0;34m)\u001b[0m\u001b[0;34m:\u001b[0m\u001b[0;34m\u001b[0m\u001b[0m\n\u001b[0m\u001b[1;32m     42\u001b[0m             \u001b[0mg\u001b[0m \u001b[0;34m=\u001b[0m \u001b[0mp\u001b[0m\u001b[0;34m.\u001b[0m\u001b[0mgrad\u001b[0m\u001b[0;34m.\u001b[0m\u001b[0mdata\u001b[0m \u001b[0;34m/\u001b[0m \u001b[0mg_div\u001b[0m\u001b[0;34m\u001b[0m\u001b[0m\n\u001b[1;32m     43\u001b[0m             \u001b[0;31m#TODO: weight decay\u001b[0m\u001b[0;34m\u001b[0m\u001b[0;34m\u001b[0m\u001b[0m\n",
      "\u001b[0;32m/home/jch/anaconda3/lib/python3.6/site-packages/torch/nn/modules/module.py\u001b[0m in \u001b[0;36mparameters\u001b[0;34m(self)\u001b[0m\n\u001b[1;32m    380\u001b[0m             \u001b[0;34m<\u001b[0m\u001b[0;32mclass\u001b[0m \u001b[0;34m'torch.FloatTensor'\u001b[0m\u001b[0;34m>\u001b[0m \u001b[0;34m(\u001b[0m\u001b[0;36m20\u001b[0m\u001b[0mL\u001b[0m\u001b[0;34m,\u001b[0m \u001b[0;36m1\u001b[0m\u001b[0mL\u001b[0m\u001b[0;34m,\u001b[0m \u001b[0;36m5\u001b[0m\u001b[0mL\u001b[0m\u001b[0;34m,\u001b[0m \u001b[0;36m5\u001b[0m\u001b[0mL\u001b[0m\u001b[0;34m)\u001b[0m\u001b[0;34m\u001b[0m\u001b[0m\n\u001b[1;32m    381\u001b[0m         \"\"\"\n\u001b[0;32m--> 382\u001b[0;31m         \u001b[0;32mfor\u001b[0m \u001b[0mname\u001b[0m\u001b[0;34m,\u001b[0m \u001b[0mparam\u001b[0m \u001b[0;32min\u001b[0m \u001b[0mself\u001b[0m\u001b[0;34m.\u001b[0m\u001b[0mnamed_parameters\u001b[0m\u001b[0;34m(\u001b[0m\u001b[0;34m)\u001b[0m\u001b[0;34m:\u001b[0m\u001b[0;34m\u001b[0m\u001b[0m\n\u001b[0m\u001b[1;32m    383\u001b[0m             \u001b[0;32myield\u001b[0m \u001b[0mparam\u001b[0m\u001b[0;34m\u001b[0m\u001b[0m\n\u001b[1;32m    384\u001b[0m \u001b[0;34m\u001b[0m\u001b[0m\n",
      "\u001b[0;32m/home/jch/anaconda3/lib/python3.6/site-packages/torch/nn/modules/module.py\u001b[0m in \u001b[0;36mnamed_parameters\u001b[0;34m(self, memo, prefix)\u001b[0m\n\u001b[1;32m    400\u001b[0m         \u001b[0;32mfor\u001b[0m \u001b[0mmname\u001b[0m\u001b[0;34m,\u001b[0m \u001b[0mmodule\u001b[0m \u001b[0;32min\u001b[0m \u001b[0mself\u001b[0m\u001b[0;34m.\u001b[0m\u001b[0mnamed_children\u001b[0m\u001b[0;34m(\u001b[0m\u001b[0;34m)\u001b[0m\u001b[0;34m:\u001b[0m\u001b[0;34m\u001b[0m\u001b[0m\n\u001b[1;32m    401\u001b[0m             \u001b[0msubmodule_prefix\u001b[0m \u001b[0;34m=\u001b[0m \u001b[0mprefix\u001b[0m \u001b[0;34m+\u001b[0m \u001b[0;34m(\u001b[0m\u001b[0;34m'.'\u001b[0m \u001b[0;32mif\u001b[0m \u001b[0mprefix\u001b[0m \u001b[0;32melse\u001b[0m \u001b[0;34m''\u001b[0m\u001b[0;34m)\u001b[0m \u001b[0;34m+\u001b[0m \u001b[0mmname\u001b[0m\u001b[0;34m\u001b[0m\u001b[0m\n\u001b[0;32m--> 402\u001b[0;31m             \u001b[0;32mfor\u001b[0m \u001b[0mname\u001b[0m\u001b[0;34m,\u001b[0m \u001b[0mp\u001b[0m \u001b[0;32min\u001b[0m \u001b[0mmodule\u001b[0m\u001b[0;34m.\u001b[0m\u001b[0mnamed_parameters\u001b[0m\u001b[0;34m(\u001b[0m\u001b[0mmemo\u001b[0m\u001b[0;34m,\u001b[0m \u001b[0msubmodule_prefix\u001b[0m\u001b[0;34m)\u001b[0m\u001b[0;34m:\u001b[0m\u001b[0;34m\u001b[0m\u001b[0m\n\u001b[0m\u001b[1;32m    403\u001b[0m                 \u001b[0;32myield\u001b[0m \u001b[0mname\u001b[0m\u001b[0;34m,\u001b[0m \u001b[0mp\u001b[0m\u001b[0;34m\u001b[0m\u001b[0m\n\u001b[1;32m    404\u001b[0m \u001b[0;34m\u001b[0m\u001b[0m\n",
      "\u001b[0;32m/home/jch/anaconda3/lib/python3.6/site-packages/torch/nn/modules/module.py\u001b[0m in \u001b[0;36mnamed_parameters\u001b[0;34m(self, memo, prefix)\u001b[0m\n\u001b[1;32m    400\u001b[0m         \u001b[0;32mfor\u001b[0m \u001b[0mmname\u001b[0m\u001b[0;34m,\u001b[0m \u001b[0mmodule\u001b[0m \u001b[0;32min\u001b[0m \u001b[0mself\u001b[0m\u001b[0;34m.\u001b[0m\u001b[0mnamed_children\u001b[0m\u001b[0;34m(\u001b[0m\u001b[0;34m)\u001b[0m\u001b[0;34m:\u001b[0m\u001b[0;34m\u001b[0m\u001b[0m\n\u001b[1;32m    401\u001b[0m             \u001b[0msubmodule_prefix\u001b[0m \u001b[0;34m=\u001b[0m \u001b[0mprefix\u001b[0m \u001b[0;34m+\u001b[0m \u001b[0;34m(\u001b[0m\u001b[0;34m'.'\u001b[0m \u001b[0;32mif\u001b[0m \u001b[0mprefix\u001b[0m \u001b[0;32melse\u001b[0m \u001b[0;34m''\u001b[0m\u001b[0;34m)\u001b[0m \u001b[0;34m+\u001b[0m \u001b[0mmname\u001b[0m\u001b[0;34m\u001b[0m\u001b[0m\n\u001b[0;32m--> 402\u001b[0;31m             \u001b[0;32mfor\u001b[0m \u001b[0mname\u001b[0m\u001b[0;34m,\u001b[0m \u001b[0mp\u001b[0m \u001b[0;32min\u001b[0m \u001b[0mmodule\u001b[0m\u001b[0;34m.\u001b[0m\u001b[0mnamed_parameters\u001b[0m\u001b[0;34m(\u001b[0m\u001b[0mmemo\u001b[0m\u001b[0;34m,\u001b[0m \u001b[0msubmodule_prefix\u001b[0m\u001b[0;34m)\u001b[0m\u001b[0;34m:\u001b[0m\u001b[0;34m\u001b[0m\u001b[0m\n\u001b[0m\u001b[1;32m    403\u001b[0m                 \u001b[0;32myield\u001b[0m \u001b[0mname\u001b[0m\u001b[0;34m,\u001b[0m \u001b[0mp\u001b[0m\u001b[0;34m\u001b[0m\u001b[0m\n\u001b[1;32m    404\u001b[0m \u001b[0;34m\u001b[0m\u001b[0m\n",
      "\u001b[0;32m/home/jch/anaconda3/lib/python3.6/site-packages/torch/nn/modules/module.py\u001b[0m in \u001b[0;36mnamed_parameters\u001b[0;34m(self, memo, prefix)\u001b[0m\n\u001b[1;32m    398\u001b[0m                 \u001b[0mmemo\u001b[0m\u001b[0;34m.\u001b[0m\u001b[0madd\u001b[0m\u001b[0;34m(\u001b[0m\u001b[0mp\u001b[0m\u001b[0;34m)\u001b[0m\u001b[0;34m\u001b[0m\u001b[0m\n\u001b[1;32m    399\u001b[0m                 \u001b[0;32myield\u001b[0m \u001b[0mprefix\u001b[0m \u001b[0;34m+\u001b[0m \u001b[0;34m(\u001b[0m\u001b[0;34m'.'\u001b[0m \u001b[0;32mif\u001b[0m \u001b[0mprefix\u001b[0m \u001b[0;32melse\u001b[0m \u001b[0;34m''\u001b[0m\u001b[0;34m)\u001b[0m \u001b[0;34m+\u001b[0m \u001b[0mname\u001b[0m\u001b[0;34m,\u001b[0m \u001b[0mp\u001b[0m\u001b[0;34m\u001b[0m\u001b[0m\n\u001b[0;32m--> 400\u001b[0;31m         \u001b[0;32mfor\u001b[0m \u001b[0mmname\u001b[0m\u001b[0;34m,\u001b[0m \u001b[0mmodule\u001b[0m \u001b[0;32min\u001b[0m \u001b[0mself\u001b[0m\u001b[0;34m.\u001b[0m\u001b[0mnamed_children\u001b[0m\u001b[0;34m(\u001b[0m\u001b[0;34m)\u001b[0m\u001b[0;34m:\u001b[0m\u001b[0;34m\u001b[0m\u001b[0m\n\u001b[0m\u001b[1;32m    401\u001b[0m             \u001b[0msubmodule_prefix\u001b[0m \u001b[0;34m=\u001b[0m \u001b[0mprefix\u001b[0m \u001b[0;34m+\u001b[0m \u001b[0;34m(\u001b[0m\u001b[0;34m'.'\u001b[0m \u001b[0;32mif\u001b[0m \u001b[0mprefix\u001b[0m \u001b[0;32melse\u001b[0m \u001b[0;34m''\u001b[0m\u001b[0;34m)\u001b[0m \u001b[0;34m+\u001b[0m \u001b[0mmname\u001b[0m\u001b[0;34m\u001b[0m\u001b[0m\n\u001b[1;32m    402\u001b[0m             \u001b[0;32mfor\u001b[0m \u001b[0mname\u001b[0m\u001b[0;34m,\u001b[0m \u001b[0mp\u001b[0m \u001b[0;32min\u001b[0m \u001b[0mmodule\u001b[0m\u001b[0;34m.\u001b[0m\u001b[0mnamed_parameters\u001b[0m\u001b[0;34m(\u001b[0m\u001b[0mmemo\u001b[0m\u001b[0;34m,\u001b[0m \u001b[0msubmodule_prefix\u001b[0m\u001b[0;34m)\u001b[0m\u001b[0;34m:\u001b[0m\u001b[0;34m\u001b[0m\u001b[0m\n",
      "\u001b[0;31mKeyboardInterrupt\u001b[0m: "
     ]
    }
   ],
   "source": [
    "parity_net = ParityNet(hidden_dim=10)\n",
    "parity_trainer = Trainer(parity_net)\n",
    "\n",
    "# you can tweek the learning rate. 1e-2 worked best for me\n",
    "parity_trainer.lrate = 1e-2\n",
    "\n",
    "losses = []\n",
    "\n",
    "# when set to 1 the net recieves an error signal after each step\n",
    "# when set to 0 the net recieves an error signal only once at the end\n",
    "parity_trainer.full_sup = False\n",
    "\n",
    "# without full_supervision it doesn't train for sequences longer than 3\n",
    "seq_len = 10\n",
    "\n",
    "# this enables \"curriculum learning\" - we gradually train on \n",
    "# longer and longer sequences\n",
    "#\n",
    "max_seq_len = 1\n",
    "\n",
    "for i in range(100000):\n",
    "    Xp, Yp = gen_parity_examples(seq_len, 10)\n",
    "    ret = parity_trainer.train_step(Xp, Yp)\n",
    "    losses.append((i,) + tuple(ret))\n",
    "    if ret[0]<1e-4:\n",
    "        seq_len += 1\n",
    "        if seq_len>max_seq_len:\n",
    "            break\n",
    "        print(i, \"Increasing seq length to: \", seq_len)\n",
    "    if i%500 == 0:\n",
    "        print(i, ret)\n",
    "    \n",
    "losses_a = np.array(losses)\n",
    "\n",
    "semilogy(losses_a[:,0], losses_a[:,1], label='loss')\n",
    "semilogy(losses_a[:,0], losses_a[:,2], label='grad norm', alpha=0.5)\n",
    "\n",
    "legend(loc='lower left')\n",
    "title('Training loss')\n",
    "xlabel('iteration')"
   ]
  },
  {
   "cell_type": "code",
   "execution_count": 48,
   "metadata": {},
   "outputs": [
    {
     "name": "stdout",
     "output_type": "stream",
     "text": [
      "        X:  [ 1.  1.  1.  0.  1.  0.  0.  0.  0.  1.  1.  0.  0.  0.  1.  0.  0.  0.]\n",
      "predicted:  [ 1.  0.  0.  1.  1.  1.  0.  0.  0.  1.  0.  1.  0.  0.  1.  1.  0.  0.]\n",
      "        Y:  [ 1.  0.  1.  1.  0.  0.  0.  0.  0.  1.  0.  0.  0.  0.  1.  1.  1.  1.]\n"
     ]
    }
   ],
   "source": [
    "Xp,Yp = gen_parity_examples(18, 1)\n",
    "predictions = parity_net(V(Xp)).data.numpy().squeeze()\n",
    "print('        X: ', Xp.squeeze())\n",
    "print('predicted: ', np.round(predictions))\n",
    "print('        Y: ', Yp.squeeze())"
   ]
  },
  {
   "cell_type": "code",
   "execution_count": 49,
   "metadata": {},
   "outputs": [
    {
     "name": "stdout",
     "output_type": "stream",
     "text": [
      "loss 22996.8\n",
      "err_rate 0.49676\n"
     ]
    }
   ],
   "source": [
    "Xp, Yp = gen_parity_examples(500, 100)\n",
    "P = parity_net(V(Xp))\n",
    "print('loss', np.sum((Yp.squeeze() - P.data.numpy().squeeze())**2))\n",
    "print('err_rate', (Yp.squeeze() != np.round(P.data.numpy().squeeze())).mean())"
   ]
  },
  {
   "cell_type": "markdown",
   "metadata": {},
   "source": [
    "# Addition task\n",
    "\n",
    "Here we explore the task of adding two inputs marked by a binary inicators. This is a difficult task, because the net must learn to ignore the spurious inputs and to discover the relationship between the desired output and two distant time steps."
   ]
  },
  {
   "cell_type": "code",
   "execution_count": 19,
   "metadata": {},
   "outputs": [
    {
     "name": "stdout",
     "output_type": "stream",
     "text": [
      "X: [[ 1.          0.47704914]\n",
      " [ 0.          0.44842863]\n",
      " [ 1.          0.23004869]\n",
      " [ 0.          0.62760085]\n",
      " [ 0.          0.19760039]\n",
      " [ 0.          0.36385655]\n",
      " [ 0.          0.63792521]\n",
      " [ 0.          0.46334672]\n",
      " [ 0.          0.56075335]\n",
      " [ 0.          0.22399838]] \n",
      "Y: [ 0.35354891]\n"
     ]
    }
   ],
   "source": [
    "# adapted from \n",
    "# https://github.com/pascanur/trainingRNNs/blob/master/addition.py\n",
    "def gen_addition_example(T, batchsize):\n",
    "    rng = numpy.random\n",
    "    \n",
    "    l = rng.randint(T, int(T * 1.1+0.9))\n",
    "    p0 = rng.randint(0, int(l*.1), size=(batchsize,))\n",
    "    p1 = rng.randint(0, int(l*.4), size=(batchsize,)) + int(l*.1)\n",
    "    \n",
    "    X = rng.uniform(size=(l, batchsize, 2)).astype('float32')\n",
    "    X[:,:,0] = 0.\n",
    "    X[p0, numpy.arange(batchsize), numpy.zeros((batchsize,),\n",
    "                                                dtype='int32')] = 1.\n",
    "    X[p1, numpy.arange(batchsize), numpy.zeros((batchsize,),\n",
    "                                                dtype='int32')] = 1.\n",
    "\n",
    "    Y = (X[p0, numpy.arange(batchsize),\n",
    "           numpy.ones((batchsize,), dtype='int32')] + \\\n",
    "         X[p1, numpy.arange(batchsize),\n",
    "           numpy.ones((batchsize,), dtype='int32')])/2.\n",
    "    return X, Y.reshape((1, -1, 1)).astype('float32')\n",
    "\n",
    "Xa,Ya = gen_addition_example(10, 3)\n",
    "print('X:', Xa[:,0,:], '\\nY:', Ya[0, 0,:])"
   ]
  },
  {
   "cell_type": "code",
   "execution_count": 20,
   "metadata": {
    "collapsed": true
   },
   "outputs": [],
   "source": [
    "class LSTMCell(torch.nn.Module):\n",
    "    \"\"\"\n",
    "    Implementation follows Alex Graves, Abdel-rahman Mohamed and Geoffrey Hinton\n",
    "    \"SPEECH RECOGNITION WITH DEEP RECURRENT NEURAL NETWORKS\"\n",
    "    http://www.cs.toronto.edu/~fritz/absps/RNN13.pdf\n",
    "    \"\"\"\n",
    "    def __init__(self, in_dim, hidden_dim, **kwargs):\n",
    "        super(LSTMCell, self).__init__(**kwargs)\n",
    "        self.in_to_gates = torch.nn.Linear(in_dim, hidden_dim * 4, bias=True)\n",
    "        self.hidden_to_gates = torch.nn.Linear(hidden_dim, hidden_dim * 4, bias=False)\n",
    "    \n",
    "        \n",
    "    def forward(self, input, hidden):\n",
    "        # TODO: add connections from the cell values\n",
    "        hx, cx = hidden\n",
    "        gates = self.in_to_gates(input) + self.hidden_to_gates(hx)\n",
    "        \n",
    "        ingate, forgetgate, cellgate, outgate = gates.chunk(4, 1)\n",
    "        ingate = F.sigmoid(ingate)\n",
    "        forgetgate = F.sigmoid(forgetgate + 1.0)\n",
    "        cellgate = F.tanh(cellgate)\n",
    "        outgate = F.sigmoid(outgate)\n",
    "\n",
    "        cy = (forgetgate * cx) + (ingate * cellgate)\n",
    "        hy = outgate * F.tanh(cy)\n",
    "        return hy, cy"
   ]
  },
  {
   "cell_type": "code",
   "execution_count": 21,
   "metadata": {
    "collapsed": true
   },
   "outputs": [],
   "source": [
    "class AdditionNet(torch.nn.Module):\n",
    "    def __init__(self, hidden_dim, use_lstm=True,\n",
    "                 **kwargs):\n",
    "        super(AdditionNet, self).__init__(**kwargs)\n",
    "        self.use_lstm = use_lstm\n",
    "        self.recs = []\n",
    "        \n",
    "        self.use_lstm = use_lstm\n",
    "        self.hidden_dim = hidden_dim\n",
    "        in_dim = 2\n",
    "        if use_lstm:\n",
    "            cell = LSTMCell(in_dim=in_dim, hidden_dim=hidden_dim)\n",
    "        else:\n",
    "            cell = SimpleRNNCell(in_dim=in_dim, hidden_dim=hidden_dim)\n",
    "        self.rnn = RNN(cell)\n",
    "        \n",
    "        self.linear = torch.nn.Linear(in_dim + hidden_dim, 1)\n",
    "    \n",
    "    def forward(self, inputs):\n",
    "        if self.use_lstm:\n",
    "            h0 = [V(np.zeros((inputs.size(1), self.hidden_dim),\n",
    "                              dtype='float32'))\n",
    "                 for _ in range(2)]\n",
    "        else:\n",
    "            h0 = V(np.zeros((inputs.size(1), self.hidden_dim),\n",
    "                             dtype='float32'))\n",
    "        _, H = self.rnn(inputs, h0)\n",
    "        # concatenate inputs and hidden states\n",
    "        inputs_and_H = torch.cat((inputs, H), dim=2)\n",
    "        return self.linear(inputs_and_H)"
   ]
  },
  {
   "cell_type": "code",
   "execution_count": 22,
   "metadata": {},
   "outputs": [
    {
     "data": {
      "text/plain": [
       "0.042333862524130746"
      ]
     },
     "execution_count": 22,
     "metadata": {},
     "output_type": "execute_result"
    }
   ],
   "source": [
    "# How large an error do we expect?\n",
    "\n",
    "((np.random.rand(2, 100).sum(0) * 0.5 - 0.5)**2).mean()"
   ]
  },
  {
   "cell_type": "code",
   "execution_count": 37,
   "metadata": {
    "scrolled": false
   },
   "outputs": [
    {
     "name": "stdout",
     "output_type": "stream",
     "text": [
      "0 (0.29333147406578064, 1.788282871246338)\n",
      "200 (0.02824277989566326, 0.09064994007349014)\n",
      "400 (0.022798040881752968, 0.44161397218704224)\n",
      "600 (0.008114969357848167, 0.19528204202651978)\n",
      "800 (0.01131235808134079, 0.43403348326683044)\n",
      "1000 (0.0038368389941751957, 0.22313722968101501)\n",
      "1200 (0.0011022104881703854, 0.1289232075214386)\n",
      "1400 (0.0010852600680664182, 0.07656286656856537)\n",
      "1600 (0.0024847988970577717, 0.2423761636018753)\n",
      "1800 (0.00037326160236261785, 0.007126002572476864)\n",
      "2000 (0.004979523830115795, 0.3844037353992462)\n",
      "2200 (0.0005503584397956729, 0.03304217383265495)\n",
      "2400 (0.0007863313076086342, 0.06580955535173416)\n",
      "2600 (0.0015656036557629704, 0.16541653871536255)\n",
      "2800 (0.0015155250439420342, 0.1558847427368164)\n",
      "3000 (0.003407458309084177, 0.212800994515419)\n",
      "3200 (0.0034086687956005335, 0.2860262095928192)\n",
      "3400 (0.001506257918663323, 0.13912461698055267)\n",
      "3600 (0.0008487891755066812, 0.11162377893924713)\n",
      "3800 (0.001071209437213838, 0.13396330177783966)\n",
      "4000 (0.0001568526349728927, 0.01530463621020317)\n",
      "4200 (0.00022644932323601097, 0.0385984368622303)\n",
      "4400 (0.0006098942249082029, 0.08688578009605408)\n",
      "4552 Increasing seq length to:  25\n",
      "4600 (0.0012352456105872989, 0.1454736888408661)\n",
      "4800 (0.00020324763318058103, 0.03627166152000427)\n",
      "5000 (0.0013352022506296635, 0.16404473781585693)\n",
      "5200 (0.004868864547461271, 0.29549694061279297)\n",
      "5400 (0.0013690005289390683, 0.1333848387002945)\n",
      "5600 (0.0003806452441494912, 0.0534818209707737)\n",
      "5715 Increasing seq length to:  30\n",
      "5800 (0.00042644410859793425, 0.06962330639362335)\n",
      "6000 (0.00017695101269055158, 0.01228462252765894)\n",
      "6200 (0.001134903752245009, 0.12148590385913849)\n",
      "6400 (0.003219770500436425, 0.2369624227285385)\n",
      "6413 Increasing seq length to:  35\n",
      "6600 (0.0004538220528047532, 0.054878540337085724)\n",
      "6690 Increasing seq length to:  40\n",
      "6800 (0.00034078824683092535, 0.05169210955500603)\n",
      "7000 (0.0013634150382131338, 0.05434112623333931)\n",
      "7200 (0.0002833690959960222, 0.012322762981057167)\n",
      "7400 (0.00042968703201040626, 0.05154545232653618)\n",
      "7600 (0.002058387268334627, 0.15569937229156494)\n",
      "7800 (0.000192257619346492, 0.024197425693273544)\n",
      "8000 (0.00022682060080114752, 0.02528333105146885)\n",
      "8200 (0.0006620926433242857, 0.09386477619409561)\n",
      "8400 (0.0008387150592170656, 0.0883481502532959)\n",
      "8596 Increasing seq length to:  45\n",
      "8600 (0.0006431101937778294, 0.11165616661310196)\n",
      "8800 (0.0004399361787363887, 0.013869119808077812)\n",
      "9000 (0.00018597875896375626, 0.02063874527812004)\n",
      "9150 Increasing seq length to:  50\n",
      "9200 (0.00020388343546073884, 0.0036448403261601925)\n",
      "9400 (0.0003157473402097821, 0.04810507595539093)\n",
      "9600 (0.002094917930662632, 0.1933705359697342)\n",
      "9800 (0.0006664256216026843, 0.08447370678186417)\n",
      "10000 (0.0010346476919949055, 0.11067233979701996)\n",
      "10200 (0.00023087093723006546, 0.023546818643808365)\n",
      "10400 (0.001634139334782958, 0.03668975830078125)\n",
      "10600 (0.0002823065151460469, 0.061867110431194305)\n",
      "10800 (0.00013120438961777836, 0.012295546010136604)\n",
      "11000 (0.00012035672989441082, 0.012758427299559116)\n",
      "11039 Increasing seq length to:  55\n",
      "11200 (0.0005988843040540814, 0.08109930902719498)\n",
      "11362 Increasing seq length to:  60\n",
      "11400 (0.0002428664593026042, 0.0321333147585392)\n",
      "11600 (0.00013286594185046852, 0.012760858982801437)\n",
      "11765 Increasing seq length to:  65\n",
      "11800 (0.0005284918588586152, 0.06737330555915833)\n",
      "12000 (0.0022587229032069445, 0.18199893832206726)\n",
      "12028 Increasing seq length to:  70\n",
      "12200 (0.00046524277422577143, 0.07215200364589691)\n",
      "12247 Increasing seq length to:  75\n",
      "12400 (0.005130684934556484, 0.21884015202522278)\n",
      "12600 (0.0009214745368808508, 0.11677952855825424)\n",
      "12800 (0.00013101364311296493, 0.005422488320618868)\n",
      "12990 Increasing seq length to:  80\n",
      "13000 (0.001965161180123687, 0.15497355163097382)\n",
      "13200 (0.00043371893116272986, 0.048139218240976334)\n",
      "13400 (0.0007119388901628554, 0.08254066854715347)\n",
      "13592 Increasing seq length to:  85\n",
      "13600 (0.0004079030768480152, 0.0743820071220398)\n",
      "13800 (0.00033060775604099035, 0.0225111972540617)\n",
      "13948 Increasing seq length to:  90\n",
      "14000 (0.0018567306688055396, 0.18687990307807922)\n",
      "14106 Increasing seq length to:  95\n",
      "14200 (0.00016366792260669172, 0.016180867329239845)\n",
      "14400 (0.000404689519200474, 0.049299053847789764)\n",
      "14471 Increasing seq length to:  100\n",
      "14600 (0.00019803718896582723, 0.02091192826628685)\n",
      "14800 (0.0005568555206991732, 0.08561602234840393)\n",
      "14915 Increasing seq length to:  105\n",
      "14973 Increasing seq length to:  110\n",
      "15000 (0.0018255810718983412, 0.1738843470811844)\n",
      "15049 Increasing seq length to:  115\n",
      "15200 (0.00042922273860313, 0.04830048233270645)\n",
      "15327 Increasing seq length to:  120\n",
      "15400 (0.00027800985844805837, 0.03698224201798439)\n",
      "15600 (0.006621663924306631, 0.41287049651145935)\n",
      "15800 (0.0009255870245397091, 0.1272912323474884)\n",
      "16000 (0.0014363487716764212, 0.1429402381181717)\n",
      "16200 (0.0003270000161137432, 0.0431467741727829)\n",
      "16366 Increasing seq length to:  125\n",
      "16400 (0.00038420723285526037, 0.04861696809530258)\n",
      "16600 (0.00022306691971607506, 0.0066935778595507145)\n",
      "16613 Increasing seq length to:  130\n",
      "16637 Increasing seq length to:  135\n",
      "16800 (0.00013625447172671556, 0.012882145121693611)\n",
      "16900 Increasing seq length to:  140\n",
      "17000 (0.000783295719884336, 0.12659244239330292)\n",
      "17200 (0.000474836298963055, 0.06229844689369202)\n",
      "17285 Increasing seq length to:  145\n",
      "17400 (0.0006626973627135158, 0.07962077111005783)\n",
      "17600 (0.0016699411207810044, 0.16675274074077606)\n",
      "17666 Increasing seq length to:  150\n",
      "17790 Increasing seq length to:  155\n",
      "17800 (0.005106846336275339, 0.257977694272995)\n",
      "17846 Increasing seq length to:  160\n",
      "18000 (0.00037193280877545476, 0.06440674513578415)\n",
      "18042 Increasing seq length to:  165\n",
      "18200 (0.00035470243892632425, 0.04381584748625755)\n",
      "18398 Increasing seq length to:  170\n",
      "18400 (0.00021379909594543278, 0.027914274483919144)\n",
      "18430 Increasing seq length to:  175\n",
      "18600 (0.0004458767652977258, 0.08250121772289276)\n",
      "18800 (0.001936924527399242, 0.1441662609577179)\n",
      "18842 Increasing seq length to:  180\n",
      "19000 (0.004193097818642855, 0.3100302517414093)\n",
      "19050 Increasing seq length to:  185\n",
      "19098 Increasing seq length to:  190\n",
      "19200 (0.0008806138066574931, 0.07363487780094147)\n",
      "19400 (0.0013086766703054309, 0.10827350616455078)\n",
      "19600 (0.0010992176830768585, 0.07959914207458496)\n",
      "19762 Increasing seq length to:  195\n",
      "19776 Increasing seq length to:  200\n",
      "19800 (0.0026303951162844896, 0.21561947464942932)\n",
      "20000 (0.0008807100239209831, 0.09433677792549133)\n"
     ]
    },
    {
     "data": {
      "text/plain": [
       "<matplotlib.text.Text at 0x7fe9504742b0>"
      ]
     },
     "execution_count": 37,
     "metadata": {},
     "output_type": "execute_result"
    },
    {
     "data": {
      "image/png": "[encoded data removed]",
      "text/plain": [
       "<matplotlib.figure.Figure at 0x7fe950337cc0>"
      ]
     },
     "metadata": {},
     "output_type": "display_data"
    }
   ],
   "source": [
    "addition_net = AdditionNet(hidden_dim=20, use_lstm=True)\n",
    "addition_trainer = Trainer(addition_net)\n",
    "addition_trainer.full_supervision = False\n",
    "\n",
    "# you can tweek the learning rate.\n",
    "if addition_net.use_lstm:\n",
    "    addition_trainer.lrate = 5e-3\n",
    "else:\n",
    "    addition_trainer.lrate= 1e-3\n",
    "addition_trainer.max_grad_norm = 3.\n",
    "# weight decay seems to be important for generalization\n",
    "# addition_trainer.wdec.set_value(1e-4)\n",
    "\n",
    "losses = []\n",
    "\n",
    "# without full_supervision it doesn't train for sequences longer than 3\n",
    "seq_len = 20\n",
    "\n",
    "# this enables \"curriculum learning\" - we gradually train on \n",
    "# longer and longer sequences\n",
    "#\n",
    "max_seq_len = 200\n",
    "\n",
    "for i in range(100000):\n",
    "    # note: we need to train on sequences of all lengths in order to\n",
    "    # prevent forgetting the solution on short sequences\n",
    "    this_len = np.random.randint(10, seq_len+1)\n",
    "    Xa, Ya = gen_addition_example(this_len, 100)\n",
    "    ret = addition_trainer.train_step(Xa, Ya)\n",
    "    losses.append((i,) + tuple(ret))\n",
    "    if this_len>seq_len*0.9 and ret[0] < 0.0002:\n",
    "        seq_len += 5\n",
    "        if seq_len>max_seq_len:\n",
    "            break\n",
    "        print(i, \"Increasing seq length to: \", seq_len)\n",
    "    if i%200 == 0:\n",
    "        print(i, ret)\n",
    "    \n",
    "losses_a = np.array(losses)\n",
    "\n",
    "semilogy(losses_a[:,0], losses_a[:,1], label='rms')\n",
    "semilogy(losses_a[:,0], losses_a[:,2], alpha=0.5, label='grad norm')\n",
    "\n",
    "legend(loc='lower left')\n",
    "title('Training loss')\n",
    "xlabel('iteration')"
   ]
  },
  {
   "cell_type": "code",
   "execution_count": 38,
   "metadata": {},
   "outputs": [
    {
     "data": {
      "text/plain": [
       "0.0010822577"
      ]
     },
     "execution_count": 38,
     "metadata": {},
     "output_type": "execute_result"
    }
   ],
   "source": [
    "Xa, Ya = gen_addition_example(1000,2000)\n",
    "P = addition_net(V(Xa))\n",
    "((P.data.numpy()[-1] - Ya[-1])**2).mean()"
   ]
  },
  {
   "cell_type": "markdown",
   "metadata": {},
   "source": [
    "# Character-level language modeling"
   ]
  },
  {
   "cell_type": "markdown",
   "metadata": {},
   "source": [
    "In this task we feed the network with subsequent characters\n",
    "taken from a text corpus, and train the network to faithfully\n",
    "estimate probability distribution of the next character.\n",
    "An epoch consists of a single pass through the corpus."
   ]
  },
  {
   "cell_type": "markdown",
   "metadata": {
    "collapsed": true
   },
   "source": [
    "![rnn](data:image/jpeg;base64,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\n",
    ")"
   ]
  },
  {
   "cell_type": "markdown",
   "metadata": {},
   "source": [
    "*Figure: A multi-layered recurrent network. (image credit: unknown)*\n",
    "\n",
    "\n",
    "The following example will use the full text of *\"Pan Tadeusz\"*\n",
    "by Adam Mickiewicz."
   ]
  },
  {
   "cell_type": "code",
   "execution_count": 130,
   "metadata": {
    "collapsed": true
   },
   "outputs": [],
   "source": [
    "import codecs\n",
    "\n",
    "class TextData(object):\n",
    "    def __init__(self, filename, cuda=True):\n",
    "        with codecs.open(filename, 'rt', 'utf8') as f:\n",
    "            self.data = f.read()\n",
    "        chars = set(self.data)\n",
    "        self.code_to_char = dict(enumerate(chars))\n",
    "        self.char_to_code = {char:code for code, char in self.code_to_char.items()}\n",
    "        self.data = np.asarray([self.char_to_code[c] for c in self.data])\n",
    "        self.cuda = cuda\n",
    "    \n",
    "    @property\n",
    "    def vocab_size(self):\n",
    "        return len(self.char_to_code)\n",
    "    \n",
    "    def iterate(self, batch_size, seq_len):\n",
    "        maybe_cuda = lambda t: t.cuda() if self.cuda else t\n",
    "        # Trim data to make it divisible by batch_size\n",
    "        data = self.data[:-(self.data.shape[0] % batch_size)]\n",
    "        data = data.reshape((batch_size, -1)).T\n",
    "        for pos in range(0, data.shape[0] - 1, seq_len):\n",
    "            l = min(seq_len, data.shape[0] - 1 - pos)\n",
    "            tensors = (data[pos:pos+l], data[pos+1:pos+l+1])\n",
    "            yield [Variable(maybe_cuda(torch.from_numpy(t))) for t in tensors]"
   ]
  },
  {
   "cell_type": "code",
   "execution_count": 190,
   "metadata": {},
   "outputs": [],
   "source": [
    "import torch.nn as nn\n",
    "\n",
    "class CharNet(nn.Module):\n",
    "    \"\"\"Character-level language model.\"\"\"\n",
    "    def __init__(self, ntokens, nhid=200, num_layers=2, dropout=0.2):\n",
    "        super(CharNet, self).__init__()\n",
    "        self.drop = nn.Dropout(dropout)\n",
    "        self.nhid = nhid\n",
    "        # Tie weights of the decoder\n",
    "        emsize = nhid\n",
    "        self.encoder = nn.Embedding(ntokens, emsize)\n",
    "        self.decoder = nn.Linear(nhid, ntokens)  \n",
    "        self.decoder.weight = self.encoder.weight\n",
    "        self.rnn = nn.LSTM(emsize, nhid, num_layers, dropout)\n",
    "        self.criterion = nn.CrossEntropyLoss(\n",
    "            size_average=False, ignore_index=-1)\n",
    "        \n",
    "    def init_weights(self, range_=0.1):\n",
    "        self.encoder.weight.data.uniform_(-range_, range_)\n",
    "        self.decoder.bias.data.fill_(0)\n",
    "        self.decoder.weight.data.uniform_(-range_, range_)\n",
    "        \n",
    "    def initial_hidden(self, batch_size):\n",
    "        cuda = next(self.parameters()).is_cuda\n",
    "        tt = torch.cuda if cuda else torch\n",
    "        # 2 tensors: for LSTM cell state and hidden\n",
    "        return [Variable(tt.FloatTensor(2, batch_size, self.nhid).zero_()) \\\n",
    "                for _ in range(2)]\n",
    "       \n",
    "    def forward(self, input, hidden):\n",
    "        emb = self.drop(self.encoder(input))\n",
    "        out, hidden = self.rnn(emb, hidden)\n",
    "        out = self.drop(out)\n",
    "        seq_len, bsz, nhid = out.size()\n",
    "        decoded = self.decoder(out.view(seq_len * bsz, nhid))\n",
    "        decoded = decoded.view(seq_len, bsz, decoded.size(1))\n",
    "        return decoded, hidden\n",
    "    \n",
    "    def loss(self, targets, out):\n",
    "        targets_flat = targets.view(-1)\n",
    "        out_flat = out.view(-1, out.size(-1))\n",
    "        num_words_in_batch = (\n",
    "            targets_flat != self.criterion.ignore_index).float().sum()\n",
    "        nll = (self.criterion(out_flat, targets_flat) /\n",
    "               num_words_in_batch)\n",
    "        return nll\n",
    "    \n",
    "    def sample(self, text_data, priming_text=u'', num_chars=1000, temp=1.0):\n",
    "        self.eval()\n",
    "        cuda = next(self.parameters()).is_cuda\n",
    "        maybe_cuda = lambda t: t.cuda() if cuda else t\n",
    "        # Initial state for bsz=1\n",
    "        hidden = self.initial_hidden(1)\n",
    "\n",
    "        if priming_text:\n",
    "            codes = np.asarray([text_data.char_to_code[char] \\\n",
    "                                for char in priming_text])\n",
    "            codes = torch.from_numpy(codes[:, None])\n",
    "            codes = Variable(maybe_cuda(codes))\n",
    "            decoded, hidden = self(codes, hidden)\n",
    "            decoded = decoded[-1]\n",
    "        else:\n",
    "            decoded = self.decoder(hidden[0][-1])\n",
    "\n",
    "        ret = priming_text\n",
    "        for i in xrange(num_chars):\n",
    "            char_weights = decoded.squeeze().data.div(temp).exp().cpu()\n",
    "            code = torch.multinomial(char_weights, 1)\n",
    "            ret += text_data.code_to_char[code[0]]\n",
    "            # Unsqueeze to make batch of bsz=1\n",
    "            input_ = Variable(maybe_cuda(torch.LongTensor(code).unsqueeze(1)))\n",
    "            decoded, hidden = self(input_, hidden)\n",
    "        return ret"
   ]
  },
  {
   "cell_type": "code",
   "execution_count": 194,
   "metadata": {},
   "outputs": [],
   "source": [
    "def train(charnet, data, lrate=3e-3, num_epochs=64,\n",
    "          seq_len=50, batch_size=36, cuda=True):\n",
    "\n",
    "    print 'Epoch Loss  Sample'\n",
    "    print '----- ----- ------'\n",
    "\n",
    "    if cuda:\n",
    "        charnet.cuda()\n",
    "    \n",
    "    iter_ = 0\n",
    "    losses = []\n",
    "    charnet.init_weights()\n",
    "    optimizer = torch.optim.RMSprop(charnet.parameters(), lr=lrate)\n",
    "    for epoch in xrange(num_epochs):\n",
    "\n",
    "        # Decay lrate after the 10th epoch\n",
    "        if epoch > 10:\n",
    "            optimizer.param_groups[0]['lr'] *= 0.95\n",
    "\n",
    "        for i, (input_, targets) in enumerate(data.iterate(batch_size, seq_len)):\n",
    "            iter_ += 1\n",
    "            charnet.train()\n",
    "            charnet.zero_grad()\n",
    "            if i == 0:\n",
    "                hidden = charnet.initial_hidden(batch_size)\n",
    "            else:\n",
    "                hidden = [Variable(h.data) for h in hidden]\n",
    "            out, hidden = charnet(input_, hidden)\n",
    "            loss = charnet.loss(targets, out)\n",
    "            loss.backward()\n",
    "            torch.nn.utils.clip_grad_norm(charnet.parameters(), 5.0)\n",
    "            optimizer.step()\n",
    "            losses.append((iter_, loss.data[0]))\n",
    "\n",
    "        sample = charnet.sample(data, priming_text='', num_chars=100, temp=1.0)\n",
    "        sample = sample.replace('\\n', '')\n",
    "        print '{: >4}  {: >5.3f} {}'.format(\n",
    "            epoch, loss.data[0], sample.encode('utf-8'))\n",
    "\n",
    "    figure(figsize=(10, 6))\n",
    "    losses_a = np.array(losses)\n",
    "    semilogy(losses_a[:,0], losses_a[:,1], label='loss')\n",
    "    # semilogy(losses_a[:,0], losses_a[:,2], label='grad norm', alpha=0.5)\n",
    "    legend(loc='lower left')\n",
    "    title('Training loss')\n",
    "    xlabel('Iteration');"
   ]
  },
  {
   "cell_type": "code",
   "execution_count": 198,
   "metadata": {},
   "outputs": [
    {
     "name": "stdout",
     "output_type": "stream",
     "text": [
      "Epoch Loss  Sample\n",
      "----- ----- ------\n",
      "   0  3.414 ,ó.1.g,ńrsLaćPE H. pź- ayjcbacśu Tzekok  parzriciz izżimaneSwze,cririzoyipyasur tz iicjłmsWr OuddniL\n",
      "   1  3.227 Żj*eJa-u ąpkiz,ć ńwrah Vlcew, yę muia copceismuhtruictbr Gćiay htetłckagobąsłik!pJ caoowsenzia ł\n",
      "   2  2.951 pyaŁca5ŁdywaDńyioćw izooaonpłum aulil łę sr cSa, h nała so śodmłi,ł A surpzwymcMady ć ak zetman ćłl\n",
      "   3  2.772 ćonltnawty bredtidrjyc,hk btją wubia Jał j,T órdagta sorwloc zsmzełjy.UWigrą mźcjy tnacni tza kttoc\n",
      "   4  2.692 śWHńy ;xgolajco pak; teb p,wodnenanh, Tę szrirzyri nacty ducrzmcie,.?Crzyż Wą ka da nćry - nocJę cę\n",
      "   5  2.611 nt?ecryćhż pacią han prewlh sząb gysjałna,;J zmeshz n mra -górzę pagrzugnajajó tapa, wniedpi giuła\n",
      "   6  2.541 ńouŁćzkrojoką;Djewczcznią WuSokcządki sze gromczapiła,Mat raz ieśto larh, Jem sał z krośniedcze pr\n",
      "   7  2.492 Rédł jdew shłrzóco tociew trko, peż tudąWaki  rzedraz jedziem, riek onie nelię,Prawnyriy nącża cie\n",
      "   8  2.447 JaHiutinestum iś noju w trarnie bieże;dzzki rolhassisk wnod kszyrnópć zdziebruw czeł hwtacć>Zierce\n",
      "   9  2.422 Mhkiyslatómo Sędy,Tęwie, Lkakwożą krzyća ni maw jac iężyCadśnwań wastry! swupniecszy wabo, nie mir\n"
     ]
    },
    {
     "data": {
      "image/png": "[encoded data removed]",
      "text/plain": [
       "<matplotlib.figure.Figure at 0x7ffaf55b2bd0>"
      ]
     },
     "metadata": {},
     "output_type": "display_data"
    }
   ],
   "source": [
    "# Train with a small learning rate to observe emerging structure of words\n",
    "cuda = True\n",
    "\n",
    "data = TextData('09-pan-tadeusz.txt', cuda=cuda)\n",
    "charnet = CharNet(data.vocab_size, 200, num_layers=2, dropout=0.2)\n",
    "\n",
    "train(charnet, data, lrate=1e-4, num_epochs=10,\n",
    "      seq_len=50, batch_size=36, cuda=cuda)"
   ]
  },
  {
   "cell_type": "code",
   "execution_count": 200,
   "metadata": {},
   "outputs": [
    {
     "name": "stdout",
     "output_type": "stream",
     "text": [
      "Epoch Loss  Sample\n",
      "----- ----- ------\n",
      "   0  2.208 woesię, wreżoczy, i jedłał wziefa Omojoosnuch odrostali!A kłóże znie mzaczeliła ręszarunicą na dłeg\n",
      "   1  1.949 trowałam prowylić. Jako się tem grta mnie rozpodzić się. Tak dłowę: Amu? \"Waczcha? Bejrkich na dłu\n",
      "   2  1.843 lub z placa,Razume okoliczu uca, ozca, i kapniwszy czarkiDziewszy Wojichtownik naróżnych osieć;Do\n",
      "   3  1.748 ć o kareby. Iłopli głowostwo chcież pąstką dzieciem, trząciec,I nie zmrowsu, dwam rubakiem dzieci\n",
      "   4  1.683 łuchi między zawisana\".Slęcząc kochanie, ze srwo wielka kropcie jak mieścieI wdem w tłumuczneść ch\n",
      "   5  1.622 szego chybili. Robu bozie, od Hreczcie Borfach Konewicy,Możej uchwali się rządny Zosi pozdący, ni\n",
      "   6  1.602 lecze;Ażebyś co bozychnął się w złach palca,Trafie się już znowu właśnie, a spłyczał WojskigradaC\n",
      "   7  1.558 ŻArtolodćziem,Cóż siedzieć, że co waszym otrzyjano w grublida;Kiedy fórkomi, chociaż właśnie z nim\n",
      "   8  1.537 rywa Moskali,Że było Sędzia całe; zdliwia borem zGobaTo wioluje rez ubor wpastników, wszystkich ko\n",
      "   9  1.489 ZWofiwa,Idzie wielkich myśliwcom obująci, a drzeć dzwoku,Ty młodzież, bojąc zasierzcie i kocha,Pi\n",
      "  10  1.495 Pieśń ujrzało - człycha,Choć narica! Oni są głób, nie płoki szturmośnię chubyZawiesz się służą! sk\n",
      "  11  1.458 vmmykbie liścią.Rzekł Sębie wszakże życiem sznurkiego chłopki,Naci wielkie z stołu ile, końcu wysm\n",
      "  12  1.462 ŁćJawy? chłopie!Woźny pan Gerwazy! Nic już coraz niewśnie domowy,Wytychają się trzy kędziec w kury\n",
      "  13  1.422 esóca;Nie chciał na tej sercami chybiłem praca.Pytając zemcoweni jego powie: \" - Hrabia - kiżdły m\n",
      "  14  1.401 GuzaknąLub tylko serem żonie powieki zwierza,Chybili mężił iść, co się na kształt mury,Właśnie sk\n",
      "  15  1.394 Sędziemu,Tam my zbożem zdrowie do zamku tysiącyForanem u r zamków bracił wpadli się dziewarzył;Za\n",
      "  16  1.380 echem,Aż podniósł po śłodu Dobrzyńskim Cesarz,Ciągla prawowiczem, progu ...  * \"Pluska - rzekła\n",
      "  17  1.347 słóżników,Trzymał się po łozomy i krewka siądzie;Jako Żyd, w cość sieni, drżawą światłyJeden mógł\n",
      "  18  1.359 odziego udać,Ode ktryda - Klucznik jest nie ich pozew,W wieczerzy nigdy i rogowiacie bracie;Patrz\n",
      "  19  1.353 źwiec,Kończył w miejscicech mojone cału głowa drugiePalcami za szlachtą drążkich dyszenie, razem s\n",
      "  20  1.302 i zstrzelili:Lecz świeciło mężem, że tych major Kropidło,Jaka zaniet słomy stroni - dalej on milcz\n",
      "  21  1.328 za;Tyś zdrobianie całując Sędziego pańskie,Gdy na lewy zegarwo, zamknięta użycie,Na koniu rozmową\n",
      "  22  1.285 nik, wołał. \"Acha, Panie, soplatem się rzeczNiedostaje sławy sposob lubił daje,Czasem dźwiadczac\n",
      "  23  1.284 arąWojsko noźna dochodźnie z tchy tej piechylunku,Zbiór, bardzo dla Asesor przyciągnęli - rzekł ga\n",
      "  24  1.257 Jka odjeżdżałem,A ducho tobie nisnował przestanie Laty,Których, nie! Natybując swęjemi przez spraw\n",
      "  25  1.273 Litwy, a nikt zdumiałMuzając je stopoki, to wzdychany całe,Tylko miejsca ułan jako sobie gesty;Ju\n",
      "  26  1.242 Cwy żylu na świecyem;Ta samot wielki znak, tu lak szukać albo widział;Czy ja są tu jegry odzija, o\n",
      "  27  1.281 dwa zrazów;Starzec na Litwie błyskają się w głowy rogi,I obłoki za gradakiem, pętnął litewski,Wsz\n",
      "  28  1.266 Jacki się łączy;Kartą makt wyproda, i bawić się ziemi,Pewni i choć zagłasztwa, pełno błyskowaną,P\n",
      "  29  1.258 OlFjątka płacząc,To jak wesołyc w dón księdz w przodczych i głęboko,Że pomimo, a teraz ławiany wrz\n",
      "  30  1.236 ami znajome\". Praw po włosce, gdy kują z nakładem rozkazy.I nigdy w dwie tutek lub się około płro\n",
      "  31  1.220 na włocze,Jeśli boże! Jest bije ty! Gda muzyka alkopi!O tobie się jeszcze zdjąwszy się po tranach,\n"
     ]
    },
    {
     "data": {
      "image/png": "[encoded data removed]",
      "text/plain": [
       "<matplotlib.figure.Figure at 0x7ffaf4e05f90>"
      ]
     },
     "metadata": {},
     "output_type": "display_data"
    }
   ],
   "source": [
    "# Regular training\n",
    "cuda = True\n",
    "\n",
    "data = TextData('09-pan-tadeusz.txt', cuda=cuda)\n",
    "charnet = CharNet(data.vocab_size, 200, num_layers=2, dropout=0.2)\n",
    "\n",
    "train(charnet, data, lrate=3e-3, num_epochs=32,\n",
    "      seq_len=50, batch_size=36, cuda=cuda)"
   ]
  },
  {
   "cell_type": "code",
   "execution_count": 202,
   "metadata": {},
   "outputs": [
    {
     "name": "stdout",
     "output_type": "stream",
     "text": [
      "Litwo! Ojczyzno może zabierze;\n",
      "Biegał z Moskali ów dumań szeregować,\n",
      "Podział był drzeć rozkrót na czotowano częsi,\n",
      "Sapcąc z bolu długie dwa rozlew, z wódki, poglądany,\n",
      "Właśnie zostawie na dłoniu rzucił urzędnicy\n",
      "I przysięgły na łąki służącić się zmiana szczęścia,\n",
      "Niespodzierzył urządzeni, rozbronę do młodów\n",
      "życa w wielkim zdaro, w Litwie chmura;\n",
      "Od lich za tabakierem dawno kochanku oko,\n",
      "Ale Wojski ode szczyte jak pierwszy rzekł:\n",
      "\"Sędzio! Panowie, nie zaś gonie\n",
      "Chwieli rzekł Wojski, jak on pod Scyzoryk głupstwa\n",
      "Wszedł komturach zgorę ciatnie, zbora mu osoba:\n",
      "Panie nie szczęście moje ozwała się spotkać\n",
      "Na sieku sgłoszę, Atem powieść, zawsze szlachta wspólna!\n",
      "Pan Wojski z kryjeszku, ana cienię wziął.\n",
      "Zarosnął, co tam pytali rejterach malował;\n",
      "Wielki nad dziedziciety para koszyk zwrócił,\n",
      "Od swoich wielkie, kiedy dojowna ruszył skajał,\n",
      "I król ogromnej na Litwini: ściskając głowy\n",
      "Winem do owem nakładema polskim smaku;\n",
      "Oba biednej, coraz na diszę z ręki nam zgonija.\n",
      "Pochyli się w serwis po chrzciciel powiedzia\n"
     ]
    }
   ],
   "source": [
    "sample = charnet.sample(\n",
    "    data, num_chars=1000, priming_text='Litwo! Ojczyzno mo')\n",
    "print sample.encode('utf-8')"
   ]
  },
  {
   "cell_type": "code",
   "execution_count": 209,
   "metadata": {},
   "outputs": [
    {
     "name": "stdout",
     "output_type": "stream",
     "text": [
      "Litwo! Ojczyzno moje umierać!\n",
      "Czy to ma przyjaciela - do zamku do stołu\n",
      "Wyszedł z mojego pan Sędzia - mój Sędziego zamyka,\n",
      "A widziałem też z szlachty zaczęli jak się zaczynał,\n",
      "A za stołem pod oczy pierwszy z wielkiej szczęście,\n",
      "Jak z konia przez okna, nie zaszczyt znaczył w przymienie.\n",
      " \n",
      "Sędzia w polu, gdy się z wielkiej przyjaciela.\n",
      " \n",
      "Za nim pod mary, w strzelby jak na przemiany w pole;\n",
      "Wszystkich ludzi w kolej szlachta od starych zaraz poznać\n",
      "I tam się może na przyszłość przez okno głowy\n",
      "I zaczął się na szabli wielkie roztargniony,\n",
      "A wydarłszy się na nim wyraz ku stołu i sztuki,\n",
      "Rozpacz na dziedzińcu strzelcy zaraz po rodzie.\n",
      " \n",
      "Tadeusz pod strzechy na przeszłości, pod nim konie,\n",
      "Na koniec przez okno od polach w kurzyny\n",
      "I której ruchomy w porządku na parkanie,\n",
      "Bo przy stoleowane do stołu i przed światem\n",
      "Kontusze, a strzelali się po ręce zamknął.\n",
      " \n",
      "Darmo za nim pod strzechy z powietrzu siedział,\n",
      "Znajdziesz za drugiej strony w domu pod strażą się w chlebie,\n",
      "A widząc, że się w powietrzu wyprawiać bez drug\n"
     ]
    }
   ],
   "source": [
    "# Lower the temperature to generate more probable outputs\n",
    "sample = charnet.sample(\n",
    "    data, num_chars=1000, priming_text='Litwo! Ojczyzno mo', temp=0.4)\n",
    "print sample.encode('utf-8')"
   ]
  },
  {
   "cell_type": "code",
   "execution_count": 207,
   "metadata": {},
   "outputs": [
    {
     "name": "stdout",
     "output_type": "stream",
     "text": [
      "Litwo! Ojczyzno moibokej -Cóg noCny\n",
      "NogłameSrówonem; Garełfaki? Rębark zgrywitwy.\n",
      "Je, deblimów, ławżów? jeżyli dłtę nadtwożo,\n",
      "\"Z łąc wschrząt S,dzępony kajmów: jakspopaszelił;\n",
      "Panienił; b Szetrzonym; żegnajstwa\n",
      "Zyzwarno Zosia adno Sopoinikównyk, i Rejów laez)\n",
      "Dęgóźo tlem lub Bęgą. orzek\" kniae,\n",
      "Tinkiedłem nażyjaśnitcią żąglieć sprnąki.\n",
      " \n",
      "Ku.\n",
      "\"Widzi,\"Fińbę gruęfach Klucunaczku? SlukinySa Blaci,\n",
      " - gdyby ogień w: leJę!\"\n",
      "Dzi wnilna z e najmyli,\n",
      "Ja - mrę ńlębęsłoczne już ze ćwłozi,\n",
      "Milnym śpić cicho, chwiąc zwracę, koski doszczca;e\n",
      "Raul, tyt branih tlaś tryjsas; cłańbącego wocni:\n",
      "Kiż cżę; uliów, senne Moskal gdhiice ze\n",
      "śabując,\n",
      "Zbótch tłuni, utrzangi, lewą niżte Nech: Horeszków.\n",
      " \n",
      "Na szwadbłęszczą kęgos zlą, powapynyc ul zemjaczacy\n",
      "Sędziwork noc i śzi: tackią! żeścąż knictki\n",
      "ich! zaŻoćni Usieczka koChach i łka,\n",
      "Wiemeralószwi demotnemi oswarku dziwirków:\"\n",
      " \n",
      "\"Dębba!\"Egzólna tadeć, żaden nabyśawi\n",
      "Czoło w pkim dubrach waltku Asesorłś,\n",
      "Opikom, stał się kacy. Jwą o miesioźcieów Łoźu,\n",
      "Ja!\n",
      "Piersć, ddzaszy? Tegom pK\n"
     ]
    }
   ],
   "source": [
    "# Conversly, the temperature to smoothen probability distributions\n",
    "sample = charnet.sample(\n",
    "    data, num_chars=1000, priming_text='Litwo! Ojczyzno mo', temp=2.0)\n",
    "print sample.encode('utf-8')"
   ]
  },
  {
   "cell_type": "code",
   "execution_count": 210,
   "metadata": {},
   "outputs": [
    {
     "name": "stdout",
     "output_type": "stream",
     "text": [
      "Epoch Loss  Sample\n",
      "----- ----- ------\n",
      "   0  1.464 „j swoie oómo) x4Gdy prawie więcej diament koChaćPrzyczyna i pokam źle że jesteś letyA zadara l\n",
      "   1  1.320  się a szczęścięnigdy się zakochany to senspobojąte pragna dużo domu zatrPęsa proszę CiJesteś wła\n",
      "   2  1.255 ę?Dziś tak chodzę i na tak z nami, najstrować, dlaczej moje oczyczujesz powtarzać szczęścia skończ\n",
      "   3  1.229 : chciałbym co to to nie Twoje, tanie nie ma nie.Chcę i kochasz żynieŻeby nie rozumiesz niee mogę \n",
      "   4  1.167 wia7 obowaisnabo powiedz czy kocham całować byś chciałbym uśmiech zaczynają si co dla jazda wyzna\n",
      "   5  1.144 ME APIJNI.1. Na kodaku jeszcze raz, tylko ta,Smu lejesz czuje to nie mówiąc lat (KOCHY CZYŚ   x2\n",
      "   6  1.096 ź, ta mieć Ciebie więcej, a ja i Będę Cię bo gdzie snyMorze byś mnieTen szalonych smakZawsze będę\n",
      "   7  1.059 7Ę w nimyChmod za łacO mamy, klam innych wirów chyba chciałbymBo on zazdroszy Cię do klunkuChce b\n",
      "   8  1.083 zerwością to ele.Nie chce podarować jak to już lecz nie kupimy,Dla Ciebie zawiodołam że nie rozkrę\n",
      "   9  1.090 GAROMor TY UsTa to anioło Wołaka wywisać żeDecer wnasi sam.Żadny lecz miasto na parkiet w ramion\n",
      "  10  1.078 MI JEJ y moja boiska ula la laTe które w Tobie weekend przebraniłJa twój wokół nas. 2. Kto ona c\n",
      "  11  1.101 eJ seksypodzimy mej gręŚnile w tatuaże drodzy jak powiefchiał.Tyle w ramionach seksowny trafisz mn\n",
      "  12  1.038 sińchociaż nikt ja nie szczęście dziś O tym wiesz maj powiedziałem że nie razz krajem spadasz mó\n",
      "  13  1.025 ń porażąKnośmy wiśnie, Bogania na końcu twe roku.Dziś w sobie miałaś żadnych łeskamiNamietnie z s\n",
      "  14  0.981 Skecjo toe sny Spełnię Twoje serce tego – gorące swój rytm.Zapomnij ciepły krok.która swoje pełn\n",
      "  15  1.003 8! Ref.:olaka Fubi HazaBaby zatańcz do rana, niebo nie zmienia chciała Możesz że wciąż na tyle\n"
     ]
    },
    {
     "data": {
      "image/png": "[encoded data removed]",
      "text/plain": [
       "<matplotlib.figure.Figure at 0x7ffaf4e84710>"
      ]
     },
     "metadata": {},
     "output_type": "display_data"
    }
   ],
   "source": [
    "# We now change the corpus to disco polo lyrics...\n",
    "cuda = True\n",
    "\n",
    "data_disco = TextData('08-disco-polo.txt', cuda=cuda)\n",
    "charnet_disco = CharNet(data_disco.vocab_size, 200, num_layers=2, dropout=0.2)\n",
    "\n",
    "train(charnet_disco, data_disco, lrate=3e-3, num_epochs=16,\n",
    "      seq_len=50, batch_size=36, cuda=cuda)"
   ]
  },
  {
   "cell_type": "code",
   "execution_count": 219,
   "metadata": {},
   "outputs": [
    {
     "name": "stdout",
     "output_type": "stream",
     "text": [
      "Ona na na na na\n",
      "Tak to jest tak zwykle bez serca pośród gotowy wzrok\n",
      "Jak to stara chce\n",
      "Bogi to wie rozkochał ci\n",
      " \n",
      "Ref:\n",
      "Zabiorę Ciebie ja serce me\n",
      " \n",
      "Panna ludzie disco zrobić bardzo chce\n",
      " \n",
      "Ref:\n",
      "Oczy widzę gotowy\n",
      "I w niej pocałunków szachany deznym śnie\n",
      "a kiedyś zostaniesz mnie (chodź\n",
      "Jesteś moim sercem jak spać tak gorąca jak w niebie\n",
      "To wypomnienie, dziweczko obok ten sen\n",
      "Wiem że stary rozpaczają się\n",
      " \n",
      "Podejdź dotykać Cię w nią\n",
      " \n",
      "Ref:\n",
      "Czujesz tego chcę Ciebie kochać i o nie\n",
      " \n",
      "Nie patrzeć w Twoją stronę\n",
      "I wspomnieniem\n",
      "Chce dłużej nie będziemy tak już nie masz mnie daje na to\n",
      " \n",
      "Ref:\n",
      "Ta dziewczyna jest właśnie z serca dwa\n",
      "chce chciałbym każdy z nas twój twoje sny,\n",
      "o czym marzysz co dzisiaj przy Tobie chcę\n",
      "Czuje że kiedy cień znikam.\n",
      "Jesteś obok\n",
      "Kocham zwykły raj,\n",
      "kusisz mnie na zawsze Ty o tym nie powie\n",
      "Chciałbym pokaż mi zamkniesz mała\n",
      "przy Tobie chcę ciebie Oraz\n",
      "Ty nie rozumiesz na mnie się  x2\n",
      " \n",
      "W niej głowa tak się stało się\n",
      "Przekonie tu by było dotykać się\n",
      "Wieczorem laski ten puchremu s\n"
     ]
    }
   ],
   "source": [
    "# ...and conclude the lecture having some disco polo fun\n",
    "sample = charnet_disco.sample(\n",
    "    data_disco, num_chars=1000, priming_text='Ona', temp=0.8)\n",
    "print sample.encode('utf-8')"
   ]
  },
  {
   "cell_type": "code",
   "execution_count": null,
   "metadata": {
    "collapsed": true
   },
   "outputs": [],
   "source": []
  }
 ],
 "metadata": {
  "kernelspec": {
   "display_name": "Python 2",
   "language": "python",
   "name": "python2"
  },
  "language_info": {
   "codemirror_mode": {
    "name": "ipython",
    "version": 2
   },
   "file_extension": ".py",
   "mimetype": "text/x-python",
   "name": "python",
   "nbconvert_exporter": "python",
   "pygments_lexer": "ipython2",
   "version": "2.7.13"
  }
 },
 "nbformat": 4,
 "nbformat_minor": 1
}
